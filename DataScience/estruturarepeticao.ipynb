{
 "cells": [
  {
   "cell_type": "markdown",
   "metadata": {},
   "source": [
    "Além dos métodos mostrados em aula, podemos usar outros métodos para manipular listas em Python, vamos conhecer eles e exemplos de construção nesta atividade. Para todos os casos usaremos a lista raca_caes:\n"
   ]
  },
  {
   "cell_type": "code",
   "execution_count": 2,
   "metadata": {},
   "outputs": [],
   "source": [
    "\n",
    "raca_caes = [\n",
    "    'Labrador Retriever',\n",
    "    'Bulldog Francês',\n",
    "    'Pastor Alemão',\n",
    "    'Poodle']"
   ]
  },
  {
   "cell_type": "markdown",
   "metadata": {},
   "source": [
    "O primeiro é o método insert(), que insere um elemento em uma determinada posição da lista. Para usar, seguimos a sintaxe lista.insert(indice, elemento), onde lista é a lista que vai receber o novo elemento, indice é o índice onde será inserido o novo elemento e elemento é o novo elemento a ser inserido.\n"
   ]
  },
  {
   "cell_type": "code",
   "execution_count": 6,
   "metadata": {},
   "outputs": [
    {
     "data": {
      "text/plain": [
       "8"
      ]
     },
     "execution_count": 6,
     "metadata": {},
     "output_type": "execute_result"
    }
   ],
   "source": [
    "raca_caes.insert(1, 'Golden Retriever')\n",
    "raca_caes"
   ]
  },
  {
   "cell_type": "markdown",
   "metadata": {},
   "source": [
    "Seguindo esse pensamento, a estrutura lista.insert(len(lista), elemento) corresponde ao uso do método append, como vimos no vídeo 5.2.\n",
    "\n",
    "O método pop(): remove o elemento de uma determinada posição da lista e o retorna como saída na execução do método. Nele, só precisamos especificar nos parêntesis qual o índice do elemento que queremos remover e ele será apagado da lista. Portanto, vamos remover a raça Golden Retriever que adicionamos no método passado.\n"
   ]
  },
  {
   "cell_type": "code",
   "execution_count": 10,
   "metadata": {},
   "outputs": [
    {
     "data": {
      "text/plain": [
       "'Golden Retriever'"
      ]
     },
     "execution_count": 10,
     "metadata": {},
     "output_type": "execute_result"
    }
   ],
   "source": [
    "raca_caes.pop(1)"
   ]
  },
  {
   "cell_type": "markdown",
   "metadata": {},
   "source": [
    "O método index() retorna o índice de um elemento específico na lista. Para ele retornar o índice, especificamos o elemento entre parêntesis. Vamos identificar o índice da raça Pastor Alemão na lista:\n"
   ]
  },
  {
   "cell_type": "code",
   "execution_count": 11,
   "metadata": {},
   "outputs": [
    {
     "data": {
      "text/plain": [
       "5"
      ]
     },
     "execution_count": 11,
     "metadata": {},
     "output_type": "execute_result"
    }
   ],
   "source": [
    "raca_caes.index('Pastor Alemão')"
   ]
  },
  {
   "cell_type": "markdown",
   "metadata": {},
   "source": [
    "O método sort() organiza os elementos da lista em ordem crescente ou decrescente. Caso sejam palavras, a ordem é dada por sequência alfabética ou inversa à alfabética. Para ordenar os valores podemos apenas declarar o método sort que a lista será organizada em ordem. Vamos ordenar alfabeticamente a lista raca_caes:\n"
   ]
  },
  {
   "cell_type": "code",
   "execution_count": 12,
   "metadata": {},
   "outputs": [
    {
     "data": {
      "text/plain": [
       "['Bulldog Francês',\n",
       " 'Golden Retriever',\n",
       " 'Golden Retriever',\n",
       " 'Golden Retriever',\n",
       " 'Labrador Retriever',\n",
       " 'Pastor Alemão',\n",
       " 'Poodle']"
      ]
     },
     "execution_count": 12,
     "metadata": {},
     "output_type": "execute_result"
    }
   ],
   "source": [
    "raca_caes.sort()\n",
    "raca_caes"
   ]
  },
  {
   "cell_type": "markdown",
   "metadata": {},
   "source": [
    "# Dicionario\n"
   ]
  },
  {
   "cell_type": "markdown",
   "metadata": {},
   "source": [
    "Podemos associar estruturas de dados a estruturas de dados, um exemplo são listas dentro de dicionários. As listas, nesse caso, podem ser armazenadas nos valores de um dicionário de forma que cada chave pode ter uma lista associada a ela. Isso é útil quando precisamos armazenar vários valores relacionados a uma única chave. Por exemplo, podemos construir um conjunto de dados de uma loja de forma que contenha uma chave com os nomes de cada produto e outra chave contendo os preços correspondentes:\n"
   ]
  },
  {
   "cell_type": "code",
   "execution_count": 13,
   "metadata": {},
   "outputs": [],
   "source": [
    "loja = {'nomes': ['televisão', 'celular', 'notebook', 'geladeira', 'fogão'],\n",
    "        'precos': [2000, 1500, 3500, 4000, 1500]}"
   ]
  },
  {
   "cell_type": "markdown",
   "metadata": {},
   "source": [
    "Para acessar os valores podemos usar um agrupamento de laços for:\n"
   ]
  },
  {
   "cell_type": "code",
   "execution_count": 14,
   "metadata": {},
   "outputs": [
    {
     "name": "stdout",
     "output_type": "stream",
     "text": [
      "Chave: nomes\n",
      "Elementos:\n",
      "televisão\n",
      "celular\n",
      "notebook\n",
      "geladeira\n",
      "fogão\n",
      "Chave: precos\n",
      "Elementos:\n",
      "2000\n",
      "1500\n",
      "3500\n",
      "4000\n",
      "1500\n"
     ]
    }
   ],
   "source": [
    "for chave, elementos in loja.items():\n",
    "    print(f'Chave: {chave}\\nElementos:')\n",
    "    for dado in elementos:\n",
    "        print(dado)"
   ]
  },
  {
   "cell_type": "markdown",
   "metadata": {},
   "source": [
    "O primeiro laço, o laço mais externo, vai fazer a leitura dos itens dentro do dicionário (chaves e elementos). Sabendo que os elementos serão listas, podemos acessar os dados das listas com outro laço de repetição que vai estar dentro do primeiro laço. O laço mais interno vai ler os elementos de cada lista por vez e imprimir os valores dentro deles.\n",
    "\n",
    "Além disso, também podemos realizar operações comuns em listas, como adicionar, remover ou contar itens na lista associada a uma chave do dicionário.\n",
    "\n",
    "Você pode copiar os códigos e executá-los no Colab para verificar a saída.\n"
   ]
  },
  {
   "cell_type": "code",
   "execution_count": null,
   "metadata": {},
   "outputs": [],
   "source": []
  }
 ],
 "metadata": {
  "kernelspec": {
   "display_name": "Python 3",
   "language": "python",
   "name": "python3"
  },
  "language_info": {
   "codemirror_mode": {
    "name": "ipython",
    "version": 3
   },
   "file_extension": ".py",
   "mimetype": "text/x-python",
   "name": "python",
   "nbconvert_exporter": "python",
   "pygments_lexer": "ipython3",
   "version": "3.11.3"
  },
  "orig_nbformat": 4
 },
 "nbformat": 4,
 "nbformat_minor": 2
}
