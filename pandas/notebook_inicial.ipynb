{
 "cells": [
  {
   "cell_type": "markdown",
   "metadata": {
    "id": "po_EJXY_WTZ6"
   },
   "source": [
    "# Conhecendo a base de dados"
   ]
  },
  {
   "cell_type": "markdown",
   "metadata": {
    "id": "Yg7As1VwWnTw"
   },
   "source": [
    "## Importando os dados\n"
   ]
  },
  {
   "cell_type": "code",
   "execution_count": 1,
   "metadata": {
    "id": "A0m9bw60V9Uj",
    "ExecuteTime": {
     "end_time": "2023-11-07T11:30:40.535545800Z",
     "start_time": "2023-11-07T11:30:39.655635600Z"
    }
   },
   "outputs": [],
   "source": [
    "import pandas as pd"
   ]
  },
  {
   "cell_type": "code",
   "execution_count": 3,
   "metadata": {
    "id": "-8GmBuLzWlnS",
    "ExecuteTime": {
     "end_time": "2023-11-07T11:15:21.428962900Z",
     "start_time": "2023-11-07T11:15:19.331071800Z"
    }
   },
   "outputs": [
    {
     "data": {
      "text/plain": "                          Tipo                Bairro  Quartos  Vagas  Suites  \\\n0                    Quitinete            Copacabana        1      0       0   \n1                         Casa       Jardim Botânico        2      0       1   \n2      Conjunto Comercial/Sala       Barra da Tijuca        0      4       0   \n3                  Apartamento                Centro        1      0       0   \n4                  Apartamento          Higienópolis        1      0       0   \n...                        ...                   ...      ...    ...     ...   \n32955                Quitinete                Centro        0      0       0   \n32956              Apartamento           Jacarepaguá        3      1       2   \n32957              Apartamento  São Francisco Xavier        2      1       0   \n32958              Apartamento                Leblon        2      0       0   \n32959  Conjunto Comercial/Sala                Centro        0      0       0   \n\n       Area   Valor  Condominio    IPTU  \n0        40  1700.0       500.0    60.0  \n1       100  7000.0         NaN     NaN  \n2       150  5200.0      4020.0  1111.0  \n3        15   800.0       390.0    20.0  \n4        48   800.0       230.0     NaN  \n...     ...     ...         ...     ...  \n32955    27   800.0       350.0    25.0  \n32956    78  1800.0       800.0    40.0  \n32957    48  1400.0       509.0    37.0  \n32958    70  3000.0       760.0     NaN  \n32959   250  6500.0      4206.0  1109.0  \n\n[32960 rows x 9 columns]",
      "text/html": "<div>\n<style scoped>\n    .dataframe tbody tr th:only-of-type {\n        vertical-align: middle;\n    }\n\n    .dataframe tbody tr th {\n        vertical-align: top;\n    }\n\n    .dataframe thead th {\n        text-align: right;\n    }\n</style>\n<table border=\"1\" class=\"dataframe\">\n  <thead>\n    <tr style=\"text-align: right;\">\n      <th></th>\n      <th>Tipo</th>\n      <th>Bairro</th>\n      <th>Quartos</th>\n      <th>Vagas</th>\n      <th>Suites</th>\n      <th>Area</th>\n      <th>Valor</th>\n      <th>Condominio</th>\n      <th>IPTU</th>\n    </tr>\n  </thead>\n  <tbody>\n    <tr>\n      <th>0</th>\n      <td>Quitinete</td>\n      <td>Copacabana</td>\n      <td>1</td>\n      <td>0</td>\n      <td>0</td>\n      <td>40</td>\n      <td>1700.0</td>\n      <td>500.0</td>\n      <td>60.0</td>\n    </tr>\n    <tr>\n      <th>1</th>\n      <td>Casa</td>\n      <td>Jardim Botânico</td>\n      <td>2</td>\n      <td>0</td>\n      <td>1</td>\n      <td>100</td>\n      <td>7000.0</td>\n      <td>NaN</td>\n      <td>NaN</td>\n    </tr>\n    <tr>\n      <th>2</th>\n      <td>Conjunto Comercial/Sala</td>\n      <td>Barra da Tijuca</td>\n      <td>0</td>\n      <td>4</td>\n      <td>0</td>\n      <td>150</td>\n      <td>5200.0</td>\n      <td>4020.0</td>\n      <td>1111.0</td>\n    </tr>\n    <tr>\n      <th>3</th>\n      <td>Apartamento</td>\n      <td>Centro</td>\n      <td>1</td>\n      <td>0</td>\n      <td>0</td>\n      <td>15</td>\n      <td>800.0</td>\n      <td>390.0</td>\n      <td>20.0</td>\n    </tr>\n    <tr>\n      <th>4</th>\n      <td>Apartamento</td>\n      <td>Higienópolis</td>\n      <td>1</td>\n      <td>0</td>\n      <td>0</td>\n      <td>48</td>\n      <td>800.0</td>\n      <td>230.0</td>\n      <td>NaN</td>\n    </tr>\n    <tr>\n      <th>...</th>\n      <td>...</td>\n      <td>...</td>\n      <td>...</td>\n      <td>...</td>\n      <td>...</td>\n      <td>...</td>\n      <td>...</td>\n      <td>...</td>\n      <td>...</td>\n    </tr>\n    <tr>\n      <th>32955</th>\n      <td>Quitinete</td>\n      <td>Centro</td>\n      <td>0</td>\n      <td>0</td>\n      <td>0</td>\n      <td>27</td>\n      <td>800.0</td>\n      <td>350.0</td>\n      <td>25.0</td>\n    </tr>\n    <tr>\n      <th>32956</th>\n      <td>Apartamento</td>\n      <td>Jacarepaguá</td>\n      <td>3</td>\n      <td>1</td>\n      <td>2</td>\n      <td>78</td>\n      <td>1800.0</td>\n      <td>800.0</td>\n      <td>40.0</td>\n    </tr>\n    <tr>\n      <th>32957</th>\n      <td>Apartamento</td>\n      <td>São Francisco Xavier</td>\n      <td>2</td>\n      <td>1</td>\n      <td>0</td>\n      <td>48</td>\n      <td>1400.0</td>\n      <td>509.0</td>\n      <td>37.0</td>\n    </tr>\n    <tr>\n      <th>32958</th>\n      <td>Apartamento</td>\n      <td>Leblon</td>\n      <td>2</td>\n      <td>0</td>\n      <td>0</td>\n      <td>70</td>\n      <td>3000.0</td>\n      <td>760.0</td>\n      <td>NaN</td>\n    </tr>\n    <tr>\n      <th>32959</th>\n      <td>Conjunto Comercial/Sala</td>\n      <td>Centro</td>\n      <td>0</td>\n      <td>0</td>\n      <td>0</td>\n      <td>250</td>\n      <td>6500.0</td>\n      <td>4206.0</td>\n      <td>1109.0</td>\n    </tr>\n  </tbody>\n</table>\n<p>32960 rows × 9 columns</p>\n</div>"
     },
     "execution_count": 3,
     "metadata": {},
     "output_type": "execute_result"
    }
   ],
   "source": [
    "local = './dados/aluguel.csv'\n",
    "pd.read_csv(local, sep=';')"
   ]
  },
  {
   "cell_type": "code",
   "execution_count": 4,
   "metadata": {
    "id": "Af6xejuuWli2",
    "ExecuteTime": {
     "end_time": "2023-11-07T11:15:21.817482400Z",
     "start_time": "2023-11-07T11:15:19.438794600Z"
    }
   },
   "outputs": [
    {
     "data": {
      "text/plain": "                          Tipo                Bairro  Quartos  Vagas  Suites  \\\n0                    Quitinete            Copacabana        1      0       0   \n1                         Casa       Jardim Botânico        2      0       1   \n2      Conjunto Comercial/Sala       Barra da Tijuca        0      4       0   \n3                  Apartamento                Centro        1      0       0   \n4                  Apartamento          Higienópolis        1      0       0   \n...                        ...                   ...      ...    ...     ...   \n32955                Quitinete                Centro        0      0       0   \n32956              Apartamento           Jacarepaguá        3      1       2   \n32957              Apartamento  São Francisco Xavier        2      1       0   \n32958              Apartamento                Leblon        2      0       0   \n32959  Conjunto Comercial/Sala                Centro        0      0       0   \n\n       Area   Valor  Condominio    IPTU  \n0        40  1700.0       500.0    60.0  \n1       100  7000.0         NaN     NaN  \n2       150  5200.0      4020.0  1111.0  \n3        15   800.0       390.0    20.0  \n4        48   800.0       230.0     NaN  \n...     ...     ...         ...     ...  \n32955    27   800.0       350.0    25.0  \n32956    78  1800.0       800.0    40.0  \n32957    48  1400.0       509.0    37.0  \n32958    70  3000.0       760.0     NaN  \n32959   250  6500.0      4206.0  1109.0  \n\n[32960 rows x 9 columns]",
      "text/html": "<div>\n<style scoped>\n    .dataframe tbody tr th:only-of-type {\n        vertical-align: middle;\n    }\n\n    .dataframe tbody tr th {\n        vertical-align: top;\n    }\n\n    .dataframe thead th {\n        text-align: right;\n    }\n</style>\n<table border=\"1\" class=\"dataframe\">\n  <thead>\n    <tr style=\"text-align: right;\">\n      <th></th>\n      <th>Tipo</th>\n      <th>Bairro</th>\n      <th>Quartos</th>\n      <th>Vagas</th>\n      <th>Suites</th>\n      <th>Area</th>\n      <th>Valor</th>\n      <th>Condominio</th>\n      <th>IPTU</th>\n    </tr>\n  </thead>\n  <tbody>\n    <tr>\n      <th>0</th>\n      <td>Quitinete</td>\n      <td>Copacabana</td>\n      <td>1</td>\n      <td>0</td>\n      <td>0</td>\n      <td>40</td>\n      <td>1700.0</td>\n      <td>500.0</td>\n      <td>60.0</td>\n    </tr>\n    <tr>\n      <th>1</th>\n      <td>Casa</td>\n      <td>Jardim Botânico</td>\n      <td>2</td>\n      <td>0</td>\n      <td>1</td>\n      <td>100</td>\n      <td>7000.0</td>\n      <td>NaN</td>\n      <td>NaN</td>\n    </tr>\n    <tr>\n      <th>2</th>\n      <td>Conjunto Comercial/Sala</td>\n      <td>Barra da Tijuca</td>\n      <td>0</td>\n      <td>4</td>\n      <td>0</td>\n      <td>150</td>\n      <td>5200.0</td>\n      <td>4020.0</td>\n      <td>1111.0</td>\n    </tr>\n    <tr>\n      <th>3</th>\n      <td>Apartamento</td>\n      <td>Centro</td>\n      <td>1</td>\n      <td>0</td>\n      <td>0</td>\n      <td>15</td>\n      <td>800.0</td>\n      <td>390.0</td>\n      <td>20.0</td>\n    </tr>\n    <tr>\n      <th>4</th>\n      <td>Apartamento</td>\n      <td>Higienópolis</td>\n      <td>1</td>\n      <td>0</td>\n      <td>0</td>\n      <td>48</td>\n      <td>800.0</td>\n      <td>230.0</td>\n      <td>NaN</td>\n    </tr>\n    <tr>\n      <th>...</th>\n      <td>...</td>\n      <td>...</td>\n      <td>...</td>\n      <td>...</td>\n      <td>...</td>\n      <td>...</td>\n      <td>...</td>\n      <td>...</td>\n      <td>...</td>\n    </tr>\n    <tr>\n      <th>32955</th>\n      <td>Quitinete</td>\n      <td>Centro</td>\n      <td>0</td>\n      <td>0</td>\n      <td>0</td>\n      <td>27</td>\n      <td>800.0</td>\n      <td>350.0</td>\n      <td>25.0</td>\n    </tr>\n    <tr>\n      <th>32956</th>\n      <td>Apartamento</td>\n      <td>Jacarepaguá</td>\n      <td>3</td>\n      <td>1</td>\n      <td>2</td>\n      <td>78</td>\n      <td>1800.0</td>\n      <td>800.0</td>\n      <td>40.0</td>\n    </tr>\n    <tr>\n      <th>32957</th>\n      <td>Apartamento</td>\n      <td>São Francisco Xavier</td>\n      <td>2</td>\n      <td>1</td>\n      <td>0</td>\n      <td>48</td>\n      <td>1400.0</td>\n      <td>509.0</td>\n      <td>37.0</td>\n    </tr>\n    <tr>\n      <th>32958</th>\n      <td>Apartamento</td>\n      <td>Leblon</td>\n      <td>2</td>\n      <td>0</td>\n      <td>0</td>\n      <td>70</td>\n      <td>3000.0</td>\n      <td>760.0</td>\n      <td>NaN</td>\n    </tr>\n    <tr>\n      <th>32959</th>\n      <td>Conjunto Comercial/Sala</td>\n      <td>Centro</td>\n      <td>0</td>\n      <td>0</td>\n      <td>0</td>\n      <td>250</td>\n      <td>6500.0</td>\n      <td>4206.0</td>\n      <td>1109.0</td>\n    </tr>\n  </tbody>\n</table>\n<p>32960 rows × 9 columns</p>\n</div>"
     },
     "execution_count": 4,
     "metadata": {},
     "output_type": "execute_result"
    }
   ],
   "source": [
    "pd.read_csv(local,sep=';')"
   ]
  },
  {
   "cell_type": "code",
   "execution_count": 5,
   "metadata": {
    "id": "1EjEmItCWleQ",
    "ExecuteTime": {
     "end_time": "2023-11-07T11:15:21.995656900Z",
     "start_time": "2023-11-07T11:15:19.545310100Z"
    }
   },
   "outputs": [
    {
     "data": {
      "text/plain": "                          Tipo                Bairro  Quartos  Vagas  Suites  \\\n0                    Quitinete            Copacabana        1      0       0   \n1                         Casa       Jardim Botânico        2      0       1   \n2      Conjunto Comercial/Sala       Barra da Tijuca        0      4       0   \n3                  Apartamento                Centro        1      0       0   \n4                  Apartamento          Higienópolis        1      0       0   \n...                        ...                   ...      ...    ...     ...   \n32955                Quitinete                Centro        0      0       0   \n32956              Apartamento           Jacarepaguá        3      1       2   \n32957              Apartamento  São Francisco Xavier        2      1       0   \n32958              Apartamento                Leblon        2      0       0   \n32959  Conjunto Comercial/Sala                Centro        0      0       0   \n\n       Area   Valor  Condominio    IPTU  \n0        40  1700.0       500.0    60.0  \n1       100  7000.0         NaN     NaN  \n2       150  5200.0      4020.0  1111.0  \n3        15   800.0       390.0    20.0  \n4        48   800.0       230.0     NaN  \n...     ...     ...         ...     ...  \n32955    27   800.0       350.0    25.0  \n32956    78  1800.0       800.0    40.0  \n32957    48  1400.0       509.0    37.0  \n32958    70  3000.0       760.0     NaN  \n32959   250  6500.0      4206.0  1109.0  \n\n[32960 rows x 9 columns]",
      "text/html": "<div>\n<style scoped>\n    .dataframe tbody tr th:only-of-type {\n        vertical-align: middle;\n    }\n\n    .dataframe tbody tr th {\n        vertical-align: top;\n    }\n\n    .dataframe thead th {\n        text-align: right;\n    }\n</style>\n<table border=\"1\" class=\"dataframe\">\n  <thead>\n    <tr style=\"text-align: right;\">\n      <th></th>\n      <th>Tipo</th>\n      <th>Bairro</th>\n      <th>Quartos</th>\n      <th>Vagas</th>\n      <th>Suites</th>\n      <th>Area</th>\n      <th>Valor</th>\n      <th>Condominio</th>\n      <th>IPTU</th>\n    </tr>\n  </thead>\n  <tbody>\n    <tr>\n      <th>0</th>\n      <td>Quitinete</td>\n      <td>Copacabana</td>\n      <td>1</td>\n      <td>0</td>\n      <td>0</td>\n      <td>40</td>\n      <td>1700.0</td>\n      <td>500.0</td>\n      <td>60.0</td>\n    </tr>\n    <tr>\n      <th>1</th>\n      <td>Casa</td>\n      <td>Jardim Botânico</td>\n      <td>2</td>\n      <td>0</td>\n      <td>1</td>\n      <td>100</td>\n      <td>7000.0</td>\n      <td>NaN</td>\n      <td>NaN</td>\n    </tr>\n    <tr>\n      <th>2</th>\n      <td>Conjunto Comercial/Sala</td>\n      <td>Barra da Tijuca</td>\n      <td>0</td>\n      <td>4</td>\n      <td>0</td>\n      <td>150</td>\n      <td>5200.0</td>\n      <td>4020.0</td>\n      <td>1111.0</td>\n    </tr>\n    <tr>\n      <th>3</th>\n      <td>Apartamento</td>\n      <td>Centro</td>\n      <td>1</td>\n      <td>0</td>\n      <td>0</td>\n      <td>15</td>\n      <td>800.0</td>\n      <td>390.0</td>\n      <td>20.0</td>\n    </tr>\n    <tr>\n      <th>4</th>\n      <td>Apartamento</td>\n      <td>Higienópolis</td>\n      <td>1</td>\n      <td>0</td>\n      <td>0</td>\n      <td>48</td>\n      <td>800.0</td>\n      <td>230.0</td>\n      <td>NaN</td>\n    </tr>\n    <tr>\n      <th>...</th>\n      <td>...</td>\n      <td>...</td>\n      <td>...</td>\n      <td>...</td>\n      <td>...</td>\n      <td>...</td>\n      <td>...</td>\n      <td>...</td>\n      <td>...</td>\n    </tr>\n    <tr>\n      <th>32955</th>\n      <td>Quitinete</td>\n      <td>Centro</td>\n      <td>0</td>\n      <td>0</td>\n      <td>0</td>\n      <td>27</td>\n      <td>800.0</td>\n      <td>350.0</td>\n      <td>25.0</td>\n    </tr>\n    <tr>\n      <th>32956</th>\n      <td>Apartamento</td>\n      <td>Jacarepaguá</td>\n      <td>3</td>\n      <td>1</td>\n      <td>2</td>\n      <td>78</td>\n      <td>1800.0</td>\n      <td>800.0</td>\n      <td>40.0</td>\n    </tr>\n    <tr>\n      <th>32957</th>\n      <td>Apartamento</td>\n      <td>São Francisco Xavier</td>\n      <td>2</td>\n      <td>1</td>\n      <td>0</td>\n      <td>48</td>\n      <td>1400.0</td>\n      <td>509.0</td>\n      <td>37.0</td>\n    </tr>\n    <tr>\n      <th>32958</th>\n      <td>Apartamento</td>\n      <td>Leblon</td>\n      <td>2</td>\n      <td>0</td>\n      <td>0</td>\n      <td>70</td>\n      <td>3000.0</td>\n      <td>760.0</td>\n      <td>NaN</td>\n    </tr>\n    <tr>\n      <th>32959</th>\n      <td>Conjunto Comercial/Sala</td>\n      <td>Centro</td>\n      <td>0</td>\n      <td>0</td>\n      <td>0</td>\n      <td>250</td>\n      <td>6500.0</td>\n      <td>4206.0</td>\n      <td>1109.0</td>\n    </tr>\n  </tbody>\n</table>\n<p>32960 rows × 9 columns</p>\n</div>"
     },
     "execution_count": 5,
     "metadata": {},
     "output_type": "execute_result"
    }
   ],
   "source": [
    "dados = pd.read_csv(local, sep=';')#sep = separador sendo ; ou ,\n",
    "dados"
   ]
  },
  {
   "cell_type": "code",
   "execution_count": 6,
   "metadata": {
    "id": "KaWMKbLmWlZj",
    "ExecuteTime": {
     "end_time": "2023-11-07T11:15:22.239213600Z",
     "start_time": "2023-11-07T11:15:19.618985Z"
    }
   },
   "outputs": [
    {
     "data": {
      "text/plain": "                      Tipo           Bairro  Quartos  Vagas  Suites  Area  \\\n0                Quitinete       Copacabana        1      0       0    40   \n1                     Casa  Jardim Botânico        2      0       1   100   \n2  Conjunto Comercial/Sala  Barra da Tijuca        0      4       0   150   \n3              Apartamento           Centro        1      0       0    15   \n4              Apartamento     Higienópolis        1      0       0    48   \n\n    Valor  Condominio    IPTU  \n0  1700.0       500.0    60.0  \n1  7000.0         NaN     NaN  \n2  5200.0      4020.0  1111.0  \n3   800.0       390.0    20.0  \n4   800.0       230.0     NaN  ",
      "text/html": "<div>\n<style scoped>\n    .dataframe tbody tr th:only-of-type {\n        vertical-align: middle;\n    }\n\n    .dataframe tbody tr th {\n        vertical-align: top;\n    }\n\n    .dataframe thead th {\n        text-align: right;\n    }\n</style>\n<table border=\"1\" class=\"dataframe\">\n  <thead>\n    <tr style=\"text-align: right;\">\n      <th></th>\n      <th>Tipo</th>\n      <th>Bairro</th>\n      <th>Quartos</th>\n      <th>Vagas</th>\n      <th>Suites</th>\n      <th>Area</th>\n      <th>Valor</th>\n      <th>Condominio</th>\n      <th>IPTU</th>\n    </tr>\n  </thead>\n  <tbody>\n    <tr>\n      <th>0</th>\n      <td>Quitinete</td>\n      <td>Copacabana</td>\n      <td>1</td>\n      <td>0</td>\n      <td>0</td>\n      <td>40</td>\n      <td>1700.0</td>\n      <td>500.0</td>\n      <td>60.0</td>\n    </tr>\n    <tr>\n      <th>1</th>\n      <td>Casa</td>\n      <td>Jardim Botânico</td>\n      <td>2</td>\n      <td>0</td>\n      <td>1</td>\n      <td>100</td>\n      <td>7000.0</td>\n      <td>NaN</td>\n      <td>NaN</td>\n    </tr>\n    <tr>\n      <th>2</th>\n      <td>Conjunto Comercial/Sala</td>\n      <td>Barra da Tijuca</td>\n      <td>0</td>\n      <td>4</td>\n      <td>0</td>\n      <td>150</td>\n      <td>5200.0</td>\n      <td>4020.0</td>\n      <td>1111.0</td>\n    </tr>\n    <tr>\n      <th>3</th>\n      <td>Apartamento</td>\n      <td>Centro</td>\n      <td>1</td>\n      <td>0</td>\n      <td>0</td>\n      <td>15</td>\n      <td>800.0</td>\n      <td>390.0</td>\n      <td>20.0</td>\n    </tr>\n    <tr>\n      <th>4</th>\n      <td>Apartamento</td>\n      <td>Higienópolis</td>\n      <td>1</td>\n      <td>0</td>\n      <td>0</td>\n      <td>48</td>\n      <td>800.0</td>\n      <td>230.0</td>\n      <td>NaN</td>\n    </tr>\n  </tbody>\n</table>\n</div>"
     },
     "execution_count": 6,
     "metadata": {},
     "output_type": "execute_result"
    }
   ],
   "source": [
    "dados.head()#5 primeiras "
   ]
  },
  {
   "cell_type": "code",
   "execution_count": 7,
   "metadata": {
    "id": "cfLu1_AcW1Y1",
    "ExecuteTime": {
     "end_time": "2023-11-07T11:15:22.241214200Z",
     "start_time": "2023-11-07T11:15:19.637024600Z"
    }
   },
   "outputs": [
    {
     "data": {
      "text/plain": "                          Tipo                Bairro  Quartos  Vagas  Suites  \\\n32955                Quitinete                Centro        0      0       0   \n32956              Apartamento           Jacarepaguá        3      1       2   \n32957              Apartamento  São Francisco Xavier        2      1       0   \n32958              Apartamento                Leblon        2      0       0   \n32959  Conjunto Comercial/Sala                Centro        0      0       0   \n\n       Area   Valor  Condominio    IPTU  \n32955    27   800.0       350.0    25.0  \n32956    78  1800.0       800.0    40.0  \n32957    48  1400.0       509.0    37.0  \n32958    70  3000.0       760.0     NaN  \n32959   250  6500.0      4206.0  1109.0  ",
      "text/html": "<div>\n<style scoped>\n    .dataframe tbody tr th:only-of-type {\n        vertical-align: middle;\n    }\n\n    .dataframe tbody tr th {\n        vertical-align: top;\n    }\n\n    .dataframe thead th {\n        text-align: right;\n    }\n</style>\n<table border=\"1\" class=\"dataframe\">\n  <thead>\n    <tr style=\"text-align: right;\">\n      <th></th>\n      <th>Tipo</th>\n      <th>Bairro</th>\n      <th>Quartos</th>\n      <th>Vagas</th>\n      <th>Suites</th>\n      <th>Area</th>\n      <th>Valor</th>\n      <th>Condominio</th>\n      <th>IPTU</th>\n    </tr>\n  </thead>\n  <tbody>\n    <tr>\n      <th>32955</th>\n      <td>Quitinete</td>\n      <td>Centro</td>\n      <td>0</td>\n      <td>0</td>\n      <td>0</td>\n      <td>27</td>\n      <td>800.0</td>\n      <td>350.0</td>\n      <td>25.0</td>\n    </tr>\n    <tr>\n      <th>32956</th>\n      <td>Apartamento</td>\n      <td>Jacarepaguá</td>\n      <td>3</td>\n      <td>1</td>\n      <td>2</td>\n      <td>78</td>\n      <td>1800.0</td>\n      <td>800.0</td>\n      <td>40.0</td>\n    </tr>\n    <tr>\n      <th>32957</th>\n      <td>Apartamento</td>\n      <td>São Francisco Xavier</td>\n      <td>2</td>\n      <td>1</td>\n      <td>0</td>\n      <td>48</td>\n      <td>1400.0</td>\n      <td>509.0</td>\n      <td>37.0</td>\n    </tr>\n    <tr>\n      <th>32958</th>\n      <td>Apartamento</td>\n      <td>Leblon</td>\n      <td>2</td>\n      <td>0</td>\n      <td>0</td>\n      <td>70</td>\n      <td>3000.0</td>\n      <td>760.0</td>\n      <td>NaN</td>\n    </tr>\n    <tr>\n      <th>32959</th>\n      <td>Conjunto Comercial/Sala</td>\n      <td>Centro</td>\n      <td>0</td>\n      <td>0</td>\n      <td>0</td>\n      <td>250</td>\n      <td>6500.0</td>\n      <td>4206.0</td>\n      <td>1109.0</td>\n    </tr>\n  </tbody>\n</table>\n</div>"
     },
     "execution_count": 7,
     "metadata": {},
     "output_type": "execute_result"
    }
   ],
   "source": [
    "dados.tail()#5 ultimas"
   ]
  },
  {
   "cell_type": "code",
   "execution_count": 8,
   "metadata": {
    "id": "-6wHgCC6W3Dq",
    "ExecuteTime": {
     "end_time": "2023-11-07T11:15:22.242214900Z",
     "start_time": "2023-11-07T11:15:19.654981400Z"
    }
   },
   "outputs": [
    {
     "data": {
      "text/plain": "pandas.core.frame.DataFrame"
     },
     "execution_count": 8,
     "metadata": {},
     "output_type": "execute_result"
    }
   ],
   "source": [
    "type(dados)"
   ]
  },
  {
   "cell_type": "markdown",
   "metadata": {
    "id": "rwL6VcT9W6W-"
   },
   "source": [
    "## Características gerais da base de dados"
   ]
  },
  {
   "cell_type": "code",
   "execution_count": 9,
   "metadata": {
    "id": "V3RRXTIYW7KV",
    "ExecuteTime": {
     "end_time": "2023-11-07T11:15:22.243213600Z",
     "start_time": "2023-11-07T11:15:19.661509100Z"
    }
   },
   "outputs": [
    {
     "data": {
      "text/plain": "(32960, 9)"
     },
     "execution_count": 9,
     "metadata": {},
     "output_type": "execute_result"
    }
   ],
   "source": [
    "dados.shape"
   ]
  },
  {
   "cell_type": "code",
   "execution_count": 10,
   "metadata": {
    "id": "55WX-hlnW6wm",
    "ExecuteTime": {
     "end_time": "2023-11-07T11:15:22.373129Z",
     "start_time": "2023-11-07T11:15:19.671063900Z"
    }
   },
   "outputs": [
    {
     "data": {
      "text/plain": "Index(['Tipo', 'Bairro', 'Quartos', 'Vagas', 'Suites', 'Area', 'Valor',\n       'Condominio', 'IPTU'],\n      dtype='object')"
     },
     "execution_count": 10,
     "metadata": {},
     "output_type": "execute_result"
    }
   ],
   "source": [
    "dados.columns"
   ]
  },
  {
   "cell_type": "code",
   "execution_count": 11,
   "metadata": {
    "id": "yacj_jwOXESW",
    "ExecuteTime": {
     "end_time": "2023-11-07T11:15:22.425727400Z",
     "start_time": "2023-11-07T11:15:19.684511Z"
    }
   },
   "outputs": [
    {
     "name": "stdout",
     "output_type": "stream",
     "text": [
      "<class 'pandas.core.frame.DataFrame'>\n",
      "RangeIndex: 32960 entries, 0 to 32959\n",
      "Data columns (total 9 columns):\n",
      " #   Column      Non-Null Count  Dtype  \n",
      "---  ------      --------------  -----  \n",
      " 0   Tipo        32960 non-null  object \n",
      " 1   Bairro      32960 non-null  object \n",
      " 2   Quartos     32960 non-null  int64  \n",
      " 3   Vagas       32960 non-null  int64  \n",
      " 4   Suites      32960 non-null  int64  \n",
      " 5   Area        32960 non-null  int64  \n",
      " 6   Valor       32943 non-null  float64\n",
      " 7   Condominio  28867 non-null  float64\n",
      " 8   IPTU        22723 non-null  float64\n",
      "dtypes: float64(3), int64(4), object(2)\n",
      "memory usage: 2.3+ MB\n"
     ]
    }
   ],
   "source": [
    "dados.info()"
   ]
  },
  {
   "cell_type": "code",
   "execution_count": 12,
   "metadata": {
    "id": "Mh5HqrORXEMu",
    "ExecuteTime": {
     "end_time": "2023-11-07T11:15:22.428242900Z",
     "start_time": "2023-11-07T11:15:19.713091700Z"
    }
   },
   "outputs": [
    {
     "data": {
      "text/plain": "0                      Quitinete\n1                           Casa\n2        Conjunto Comercial/Sala\n3                    Apartamento\n4                    Apartamento\n                  ...           \n32955                  Quitinete\n32956                Apartamento\n32957                Apartamento\n32958                Apartamento\n32959    Conjunto Comercial/Sala\nName: Tipo, Length: 32960, dtype: object"
     },
     "execution_count": 12,
     "metadata": {},
     "output_type": "execute_result"
    }
   ],
   "source": [
    "dados['Tipo']"
   ]
  },
  {
   "cell_type": "code",
   "execution_count": 13,
   "metadata": {
    "id": "ZmygOLCMXIyB",
    "ExecuteTime": {
     "end_time": "2023-11-07T11:15:22.640704700Z",
     "start_time": "2023-11-07T11:15:19.723116500Z"
    }
   },
   "outputs": [
    {
     "data": {
      "text/plain": "       Quartos   Valor\n0            1  1700.0\n1            2  7000.0\n2            0  5200.0\n3            1   800.0\n4            1   800.0\n...        ...     ...\n32955        0   800.0\n32956        3  1800.0\n32957        2  1400.0\n32958        2  3000.0\n32959        0  6500.0\n\n[32960 rows x 2 columns]",
      "text/html": "<div>\n<style scoped>\n    .dataframe tbody tr th:only-of-type {\n        vertical-align: middle;\n    }\n\n    .dataframe tbody tr th {\n        vertical-align: top;\n    }\n\n    .dataframe thead th {\n        text-align: right;\n    }\n</style>\n<table border=\"1\" class=\"dataframe\">\n  <thead>\n    <tr style=\"text-align: right;\">\n      <th></th>\n      <th>Quartos</th>\n      <th>Valor</th>\n    </tr>\n  </thead>\n  <tbody>\n    <tr>\n      <th>0</th>\n      <td>1</td>\n      <td>1700.0</td>\n    </tr>\n    <tr>\n      <th>1</th>\n      <td>2</td>\n      <td>7000.0</td>\n    </tr>\n    <tr>\n      <th>2</th>\n      <td>0</td>\n      <td>5200.0</td>\n    </tr>\n    <tr>\n      <th>3</th>\n      <td>1</td>\n      <td>800.0</td>\n    </tr>\n    <tr>\n      <th>4</th>\n      <td>1</td>\n      <td>800.0</td>\n    </tr>\n    <tr>\n      <th>...</th>\n      <td>...</td>\n      <td>...</td>\n    </tr>\n    <tr>\n      <th>32955</th>\n      <td>0</td>\n      <td>800.0</td>\n    </tr>\n    <tr>\n      <th>32956</th>\n      <td>3</td>\n      <td>1800.0</td>\n    </tr>\n    <tr>\n      <th>32957</th>\n      <td>2</td>\n      <td>1400.0</td>\n    </tr>\n    <tr>\n      <th>32958</th>\n      <td>2</td>\n      <td>3000.0</td>\n    </tr>\n    <tr>\n      <th>32959</th>\n      <td>0</td>\n      <td>6500.0</td>\n    </tr>\n  </tbody>\n</table>\n<p>32960 rows × 2 columns</p>\n</div>"
     },
     "execution_count": 13,
     "metadata": {},
     "output_type": "execute_result"
    }
   ],
   "source": [
    "dados[['Quartos','Valor']]"
   ]
  },
  {
   "cell_type": "markdown",
   "metadata": {
    "id": "cwVMOIMpWWfM"
   },
   "source": [
    "# Análise exploratória de dados"
   ]
  },
  {
   "cell_type": "markdown",
   "metadata": {
    "id": "rnsDqFNDYV9-"
   },
   "source": [
    "## Qual o valor médio de aluguel por tipo de imóvel?"
   ]
  },
  {
   "cell_type": "code",
   "execution_count": 14,
   "metadata": {
    "id": "WRsE4GdoHZbg",
    "ExecuteTime": {
     "end_time": "2023-11-07T11:15:22.642707Z",
     "start_time": "2023-11-07T11:15:19.742225700Z"
    }
   },
   "outputs": [
    {
     "data": {
      "text/plain": "                      Tipo           Bairro  Quartos  Vagas  Suites  Area  \\\n0                Quitinete       Copacabana        1      0       0    40   \n1                     Casa  Jardim Botânico        2      0       1   100   \n2  Conjunto Comercial/Sala  Barra da Tijuca        0      4       0   150   \n3              Apartamento           Centro        1      0       0    15   \n4              Apartamento     Higienópolis        1      0       0    48   \n\n    Valor  Condominio    IPTU  \n0  1700.0       500.0    60.0  \n1  7000.0         NaN     NaN  \n2  5200.0      4020.0  1111.0  \n3   800.0       390.0    20.0  \n4   800.0       230.0     NaN  ",
      "text/html": "<div>\n<style scoped>\n    .dataframe tbody tr th:only-of-type {\n        vertical-align: middle;\n    }\n\n    .dataframe tbody tr th {\n        vertical-align: top;\n    }\n\n    .dataframe thead th {\n        text-align: right;\n    }\n</style>\n<table border=\"1\" class=\"dataframe\">\n  <thead>\n    <tr style=\"text-align: right;\">\n      <th></th>\n      <th>Tipo</th>\n      <th>Bairro</th>\n      <th>Quartos</th>\n      <th>Vagas</th>\n      <th>Suites</th>\n      <th>Area</th>\n      <th>Valor</th>\n      <th>Condominio</th>\n      <th>IPTU</th>\n    </tr>\n  </thead>\n  <tbody>\n    <tr>\n      <th>0</th>\n      <td>Quitinete</td>\n      <td>Copacabana</td>\n      <td>1</td>\n      <td>0</td>\n      <td>0</td>\n      <td>40</td>\n      <td>1700.0</td>\n      <td>500.0</td>\n      <td>60.0</td>\n    </tr>\n    <tr>\n      <th>1</th>\n      <td>Casa</td>\n      <td>Jardim Botânico</td>\n      <td>2</td>\n      <td>0</td>\n      <td>1</td>\n      <td>100</td>\n      <td>7000.0</td>\n      <td>NaN</td>\n      <td>NaN</td>\n    </tr>\n    <tr>\n      <th>2</th>\n      <td>Conjunto Comercial/Sala</td>\n      <td>Barra da Tijuca</td>\n      <td>0</td>\n      <td>4</td>\n      <td>0</td>\n      <td>150</td>\n      <td>5200.0</td>\n      <td>4020.0</td>\n      <td>1111.0</td>\n    </tr>\n    <tr>\n      <th>3</th>\n      <td>Apartamento</td>\n      <td>Centro</td>\n      <td>1</td>\n      <td>0</td>\n      <td>0</td>\n      <td>15</td>\n      <td>800.0</td>\n      <td>390.0</td>\n      <td>20.0</td>\n    </tr>\n    <tr>\n      <th>4</th>\n      <td>Apartamento</td>\n      <td>Higienópolis</td>\n      <td>1</td>\n      <td>0</td>\n      <td>0</td>\n      <td>48</td>\n      <td>800.0</td>\n      <td>230.0</td>\n      <td>NaN</td>\n    </tr>\n  </tbody>\n</table>\n</div>"
     },
     "execution_count": 14,
     "metadata": {},
     "output_type": "execute_result"
    }
   ],
   "source": [
    "dados.head()"
   ]
  },
  {
   "cell_type": "code",
   "execution_count": 15,
   "metadata": {
    "id": "1CDTCoKvSZiy",
    "ExecuteTime": {
     "end_time": "2023-11-07T11:15:22.643704400Z",
     "start_time": "2023-11-07T11:15:19.758859500Z"
    }
   },
   "outputs": [
    {
     "data": {
      "text/plain": "12952.659715265761"
     },
     "execution_count": 15,
     "metadata": {},
     "output_type": "execute_result"
    }
   ],
   "source": [
    "dados['Valor'].mean()"
   ]
  },
  {
   "cell_type": "code",
   "execution_count": 16,
   "metadata": {
    "id": "_Ud_6L8WTqWY",
    "ExecuteTime": {
     "end_time": "2023-11-07T11:15:22.721045100Z",
     "start_time": "2023-11-07T11:15:19.768175300Z"
    }
   },
   "outputs": [
    {
     "data": {
      "text/plain": "                               Quartos      Vagas     Suites          Area  \\\nTipo                                                                         \nApartamento                   2.481569   1.232388   0.875998    119.790498   \nBox/Garagem                   0.060976   1.304878   0.000000     17.524390   \nCasa                          3.133402   1.795243   1.258532    250.578077   \nCasa Comercial                1.562264   2.203774   0.260377    372.241509   \nCasa de Condomínio            4.007028   3.101406   2.864458    456.161647   \nCasa de Vila                  1.927711   0.389558   0.228916     78.469880   \nChácara                       3.000000   0.000000   0.000000      0.000000   \nConjunto Comercial/Sala       0.040939   2.516801   0.010858    214.472487   \nFlat                          1.415966   0.962185   0.754202     65.483193   \nGalpão/Depósito/Armazém       0.043339   5.587480   0.000000   2514.810594   \nHotel                        25.500000   2.500000  12.000000    885.500000   \nIndústria                     0.000000   0.000000   0.000000     22.000000   \nLoft                          1.117647   0.666667   0.372549     58.372549   \nLoja Shopping/ Ct Comercial   0.044534   6.874494   0.008097     88.109312   \nLoja/Salão                    0.010519   1.217391   0.043478    228.852034   \nLoteamento/Condomínio         0.000000   0.000000   0.000000   2069.000000   \nPousada/Chalé                23.000000   0.000000  23.000000    862.000000   \nPrédio Inteiro                0.335548  11.199336   0.019934   1773.837209   \nQuitinete                     0.834928   0.017943   0.037081     28.954545   \nStudio                        0.500000   0.250000   0.000000    103.250000   \nSítio                         5.100000   1.000000   3.800000  15217.000000   \nTerreno Padrão                0.042857   0.057143   0.000000   5044.814286   \n\n                                     Valor    Condominio           IPTU  \nTipo                                                                     \nApartamento                    4744.614648   1722.653697     686.170413  \nBox/Garagem                    1899.756098    305.450000     125.846154  \nCasa                           6793.454922    931.280952    1582.506394  \nCasa Comercial                14478.264151   1935.709677    1707.386740  \nCasa de Condomínio            11952.061245   1342.025527    3252.517730  \nCasa de Vila                   1574.369478    138.768421     183.878788  \nChácara                        4900.000000           NaN            NaN  \nConjunto Comercial/Sala       14715.045521   4512.218100    1399.596571  \nFlat                           4546.189076   2027.720554     493.166667  \nGalpão/Depósito/Armazém       53407.062600  10560.308824    5050.465241  \nHotel                         25000.000000           NaN    6202.000000  \nIndústria                    120000.000000           NaN            NaN  \nLoft                           2557.882353    869.239130     238.243243  \nLoja Shopping/ Ct Comercial    8126.178862   1790.109005    1052.415459  \nLoja/Salão                    13769.646770   2605.601954    2670.331409  \nLoteamento/Condomínio         22000.000000           NaN    4885.000000  \nPousada/Chalé                  1480.000000    295.000000            NaN  \nPrédio Inteiro               498637.239203  55066.750000  165480.022472  \nQuitinete                      1246.840909    427.341969      75.790741  \nStudio                         2400.000000    549.000000     151.250000  \nSítio                         12499.000000           NaN    5848.800000  \nTerreno Padrão                32567.714286      1.000000    5138.170732  ",
      "text/html": "<div>\n<style scoped>\n    .dataframe tbody tr th:only-of-type {\n        vertical-align: middle;\n    }\n\n    .dataframe tbody tr th {\n        vertical-align: top;\n    }\n\n    .dataframe thead th {\n        text-align: right;\n    }\n</style>\n<table border=\"1\" class=\"dataframe\">\n  <thead>\n    <tr style=\"text-align: right;\">\n      <th></th>\n      <th>Quartos</th>\n      <th>Vagas</th>\n      <th>Suites</th>\n      <th>Area</th>\n      <th>Valor</th>\n      <th>Condominio</th>\n      <th>IPTU</th>\n    </tr>\n    <tr>\n      <th>Tipo</th>\n      <th></th>\n      <th></th>\n      <th></th>\n      <th></th>\n      <th></th>\n      <th></th>\n      <th></th>\n    </tr>\n  </thead>\n  <tbody>\n    <tr>\n      <th>Apartamento</th>\n      <td>2.481569</td>\n      <td>1.232388</td>\n      <td>0.875998</td>\n      <td>119.790498</td>\n      <td>4744.614648</td>\n      <td>1722.653697</td>\n      <td>686.170413</td>\n    </tr>\n    <tr>\n      <th>Box/Garagem</th>\n      <td>0.060976</td>\n      <td>1.304878</td>\n      <td>0.000000</td>\n      <td>17.524390</td>\n      <td>1899.756098</td>\n      <td>305.450000</td>\n      <td>125.846154</td>\n    </tr>\n    <tr>\n      <th>Casa</th>\n      <td>3.133402</td>\n      <td>1.795243</td>\n      <td>1.258532</td>\n      <td>250.578077</td>\n      <td>6793.454922</td>\n      <td>931.280952</td>\n      <td>1582.506394</td>\n    </tr>\n    <tr>\n      <th>Casa Comercial</th>\n      <td>1.562264</td>\n      <td>2.203774</td>\n      <td>0.260377</td>\n      <td>372.241509</td>\n      <td>14478.264151</td>\n      <td>1935.709677</td>\n      <td>1707.386740</td>\n    </tr>\n    <tr>\n      <th>Casa de Condomínio</th>\n      <td>4.007028</td>\n      <td>3.101406</td>\n      <td>2.864458</td>\n      <td>456.161647</td>\n      <td>11952.061245</td>\n      <td>1342.025527</td>\n      <td>3252.517730</td>\n    </tr>\n    <tr>\n      <th>Casa de Vila</th>\n      <td>1.927711</td>\n      <td>0.389558</td>\n      <td>0.228916</td>\n      <td>78.469880</td>\n      <td>1574.369478</td>\n      <td>138.768421</td>\n      <td>183.878788</td>\n    </tr>\n    <tr>\n      <th>Chácara</th>\n      <td>3.000000</td>\n      <td>0.000000</td>\n      <td>0.000000</td>\n      <td>0.000000</td>\n      <td>4900.000000</td>\n      <td>NaN</td>\n      <td>NaN</td>\n    </tr>\n    <tr>\n      <th>Conjunto Comercial/Sala</th>\n      <td>0.040939</td>\n      <td>2.516801</td>\n      <td>0.010858</td>\n      <td>214.472487</td>\n      <td>14715.045521</td>\n      <td>4512.218100</td>\n      <td>1399.596571</td>\n    </tr>\n    <tr>\n      <th>Flat</th>\n      <td>1.415966</td>\n      <td>0.962185</td>\n      <td>0.754202</td>\n      <td>65.483193</td>\n      <td>4546.189076</td>\n      <td>2027.720554</td>\n      <td>493.166667</td>\n    </tr>\n    <tr>\n      <th>Galpão/Depósito/Armazém</th>\n      <td>0.043339</td>\n      <td>5.587480</td>\n      <td>0.000000</td>\n      <td>2514.810594</td>\n      <td>53407.062600</td>\n      <td>10560.308824</td>\n      <td>5050.465241</td>\n    </tr>\n    <tr>\n      <th>Hotel</th>\n      <td>25.500000</td>\n      <td>2.500000</td>\n      <td>12.000000</td>\n      <td>885.500000</td>\n      <td>25000.000000</td>\n      <td>NaN</td>\n      <td>6202.000000</td>\n    </tr>\n    <tr>\n      <th>Indústria</th>\n      <td>0.000000</td>\n      <td>0.000000</td>\n      <td>0.000000</td>\n      <td>22.000000</td>\n      <td>120000.000000</td>\n      <td>NaN</td>\n      <td>NaN</td>\n    </tr>\n    <tr>\n      <th>Loft</th>\n      <td>1.117647</td>\n      <td>0.666667</td>\n      <td>0.372549</td>\n      <td>58.372549</td>\n      <td>2557.882353</td>\n      <td>869.239130</td>\n      <td>238.243243</td>\n    </tr>\n    <tr>\n      <th>Loja Shopping/ Ct Comercial</th>\n      <td>0.044534</td>\n      <td>6.874494</td>\n      <td>0.008097</td>\n      <td>88.109312</td>\n      <td>8126.178862</td>\n      <td>1790.109005</td>\n      <td>1052.415459</td>\n    </tr>\n    <tr>\n      <th>Loja/Salão</th>\n      <td>0.010519</td>\n      <td>1.217391</td>\n      <td>0.043478</td>\n      <td>228.852034</td>\n      <td>13769.646770</td>\n      <td>2605.601954</td>\n      <td>2670.331409</td>\n    </tr>\n    <tr>\n      <th>Loteamento/Condomínio</th>\n      <td>0.000000</td>\n      <td>0.000000</td>\n      <td>0.000000</td>\n      <td>2069.000000</td>\n      <td>22000.000000</td>\n      <td>NaN</td>\n      <td>4885.000000</td>\n    </tr>\n    <tr>\n      <th>Pousada/Chalé</th>\n      <td>23.000000</td>\n      <td>0.000000</td>\n      <td>23.000000</td>\n      <td>862.000000</td>\n      <td>1480.000000</td>\n      <td>295.000000</td>\n      <td>NaN</td>\n    </tr>\n    <tr>\n      <th>Prédio Inteiro</th>\n      <td>0.335548</td>\n      <td>11.199336</td>\n      <td>0.019934</td>\n      <td>1773.837209</td>\n      <td>498637.239203</td>\n      <td>55066.750000</td>\n      <td>165480.022472</td>\n    </tr>\n    <tr>\n      <th>Quitinete</th>\n      <td>0.834928</td>\n      <td>0.017943</td>\n      <td>0.037081</td>\n      <td>28.954545</td>\n      <td>1246.840909</td>\n      <td>427.341969</td>\n      <td>75.790741</td>\n    </tr>\n    <tr>\n      <th>Studio</th>\n      <td>0.500000</td>\n      <td>0.250000</td>\n      <td>0.000000</td>\n      <td>103.250000</td>\n      <td>2400.000000</td>\n      <td>549.000000</td>\n      <td>151.250000</td>\n    </tr>\n    <tr>\n      <th>Sítio</th>\n      <td>5.100000</td>\n      <td>1.000000</td>\n      <td>3.800000</td>\n      <td>15217.000000</td>\n      <td>12499.000000</td>\n      <td>NaN</td>\n      <td>5848.800000</td>\n    </tr>\n    <tr>\n      <th>Terreno Padrão</th>\n      <td>0.042857</td>\n      <td>0.057143</td>\n      <td>0.000000</td>\n      <td>5044.814286</td>\n      <td>32567.714286</td>\n      <td>1.000000</td>\n      <td>5138.170732</td>\n    </tr>\n  </tbody>\n</table>\n</div>"
     },
     "execution_count": 16,
     "metadata": {},
     "output_type": "execute_result"
    }
   ],
   "source": [
    "dados.groupby('Tipo').mean(numeric_only=True)"
   ]
  },
  {
   "cell_type": "code",
   "execution_count": 17,
   "metadata": {
    "id": "7No8Z_W_YXJ1",
    "ExecuteTime": {
     "end_time": "2023-11-07T11:15:22.830077600Z",
     "start_time": "2023-11-07T11:15:19.800215Z"
    }
   },
   "outputs": [
    {
     "data": {
      "text/plain": "Tipo\nApartamento                      4744.614648\nBox/Garagem                      1899.756098\nCasa                             6793.454922\nCasa Comercial                  14478.264151\nCasa de Condomínio              11952.061245\nCasa de Vila                     1574.369478\nChácara                          4900.000000\nConjunto Comercial/Sala         14715.045521\nFlat                             4546.189076\nGalpão/Depósito/Armazém         53407.062600\nHotel                           25000.000000\nIndústria                      120000.000000\nLoft                             2557.882353\nLoja Shopping/ Ct Comercial      8126.178862\nLoja/Salão                      13769.646770\nLoteamento/Condomínio           22000.000000\nPousada/Chalé                    1480.000000\nPrédio Inteiro                 498637.239203\nQuitinete                        1246.840909\nStudio                           2400.000000\nSítio                           12499.000000\nTerreno Padrão                  32567.714286\nName: Valor, dtype: float64"
     },
     "execution_count": 17,
     "metadata": {},
     "output_type": "execute_result"
    }
   ],
   "source": [
    "dados.groupby('Tipo')['Valor'].mean()"
   ]
  },
  {
   "cell_type": "code",
   "execution_count": 18,
   "metadata": {
    "id": "xwNUoofAYXFU",
    "ExecuteTime": {
     "end_time": "2023-11-07T11:15:22.845627800Z",
     "start_time": "2023-11-07T11:15:19.814527Z"
    }
   },
   "outputs": [
    {
     "data": {
      "text/plain": "                                     Valor\nTipo                                      \nQuitinete                      1246.840909\nPousada/Chalé                  1480.000000\nCasa de Vila                   1574.369478\nBox/Garagem                    1899.756098\nStudio                         2400.000000\nLoft                           2557.882353\nFlat                           4546.189076\nApartamento                    4744.614648\nChácara                        4900.000000\nCasa                           6793.454922\nLoja Shopping/ Ct Comercial    8126.178862\nCasa de Condomínio            11952.061245\nSítio                         12499.000000\nLoja/Salão                    13769.646770\nCasa Comercial                14478.264151\nConjunto Comercial/Sala       14715.045521\nLoteamento/Condomínio         22000.000000\nHotel                         25000.000000\nTerreno Padrão                32567.714286\nGalpão/Depósito/Armazém       53407.062600\nIndústria                    120000.000000\nPrédio Inteiro               498637.239203",
      "text/html": "<div>\n<style scoped>\n    .dataframe tbody tr th:only-of-type {\n        vertical-align: middle;\n    }\n\n    .dataframe tbody tr th {\n        vertical-align: top;\n    }\n\n    .dataframe thead th {\n        text-align: right;\n    }\n</style>\n<table border=\"1\" class=\"dataframe\">\n  <thead>\n    <tr style=\"text-align: right;\">\n      <th></th>\n      <th>Valor</th>\n    </tr>\n    <tr>\n      <th>Tipo</th>\n      <th></th>\n    </tr>\n  </thead>\n  <tbody>\n    <tr>\n      <th>Quitinete</th>\n      <td>1246.840909</td>\n    </tr>\n    <tr>\n      <th>Pousada/Chalé</th>\n      <td>1480.000000</td>\n    </tr>\n    <tr>\n      <th>Casa de Vila</th>\n      <td>1574.369478</td>\n    </tr>\n    <tr>\n      <th>Box/Garagem</th>\n      <td>1899.756098</td>\n    </tr>\n    <tr>\n      <th>Studio</th>\n      <td>2400.000000</td>\n    </tr>\n    <tr>\n      <th>Loft</th>\n      <td>2557.882353</td>\n    </tr>\n    <tr>\n      <th>Flat</th>\n      <td>4546.189076</td>\n    </tr>\n    <tr>\n      <th>Apartamento</th>\n      <td>4744.614648</td>\n    </tr>\n    <tr>\n      <th>Chácara</th>\n      <td>4900.000000</td>\n    </tr>\n    <tr>\n      <th>Casa</th>\n      <td>6793.454922</td>\n    </tr>\n    <tr>\n      <th>Loja Shopping/ Ct Comercial</th>\n      <td>8126.178862</td>\n    </tr>\n    <tr>\n      <th>Casa de Condomínio</th>\n      <td>11952.061245</td>\n    </tr>\n    <tr>\n      <th>Sítio</th>\n      <td>12499.000000</td>\n    </tr>\n    <tr>\n      <th>Loja/Salão</th>\n      <td>13769.646770</td>\n    </tr>\n    <tr>\n      <th>Casa Comercial</th>\n      <td>14478.264151</td>\n    </tr>\n    <tr>\n      <th>Conjunto Comercial/Sala</th>\n      <td>14715.045521</td>\n    </tr>\n    <tr>\n      <th>Loteamento/Condomínio</th>\n      <td>22000.000000</td>\n    </tr>\n    <tr>\n      <th>Hotel</th>\n      <td>25000.000000</td>\n    </tr>\n    <tr>\n      <th>Terreno Padrão</th>\n      <td>32567.714286</td>\n    </tr>\n    <tr>\n      <th>Galpão/Depósito/Armazém</th>\n      <td>53407.062600</td>\n    </tr>\n    <tr>\n      <th>Indústria</th>\n      <td>120000.000000</td>\n    </tr>\n    <tr>\n      <th>Prédio Inteiro</th>\n      <td>498637.239203</td>\n    </tr>\n  </tbody>\n</table>\n</div>"
     },
     "execution_count": 18,
     "metadata": {},
     "output_type": "execute_result"
    }
   ],
   "source": [
    "dados.groupby('Tipo')[['Valor']].mean().sort_values('Valor')"
   ]
  },
  {
   "cell_type": "code",
   "execution_count": 19,
   "metadata": {
    "id": "wc-pASG0YXBt",
    "ExecuteTime": {
     "end_time": "2023-11-07T11:15:22.875741700Z",
     "start_time": "2023-11-07T11:15:19.834329200Z"
    }
   },
   "outputs": [
    {
     "ename": "ImportError",
     "evalue": "matplotlib is required for plotting when the default backend \"matplotlib\" is selected.",
     "output_type": "error",
     "traceback": [
      "\u001B[1;31m---------------------------------------------------------------------------\u001B[0m",
      "\u001B[1;31mImportError\u001B[0m                               Traceback (most recent call last)",
      "Cell \u001B[1;32mIn[19], line 3\u001B[0m\n\u001B[0;32m      1\u001B[0m df_preco_tipo \u001B[38;5;241m=\u001B[39m dados\u001B[38;5;241m.\u001B[39mgroupby(\u001B[38;5;124m'\u001B[39m\u001B[38;5;124mTipo\u001B[39m\u001B[38;5;124m'\u001B[39m)[[\u001B[38;5;124m'\u001B[39m\u001B[38;5;124mValor\u001B[39m\u001B[38;5;124m'\u001B[39m]]\u001B[38;5;241m.\u001B[39mmean()\u001B[38;5;241m.\u001B[39msort_values(\u001B[38;5;124m'\u001B[39m\u001B[38;5;124mValor\u001B[39m\u001B[38;5;124m'\u001B[39m)\n\u001B[1;32m----> 3\u001B[0m \u001B[43mdf_preco_tipo\u001B[49m\u001B[38;5;241;43m.\u001B[39;49m\u001B[43mplot\u001B[49m\u001B[43m(\u001B[49m\u001B[43mkind\u001B[49m\u001B[38;5;241;43m=\u001B[39;49m\u001B[38;5;124;43m'\u001B[39;49m\u001B[38;5;124;43mbarh\u001B[39;49m\u001B[38;5;124;43m'\u001B[39;49m\u001B[43m,\u001B[49m\u001B[43mfigsize\u001B[49m\u001B[38;5;241;43m=\u001B[39;49m\u001B[43m(\u001B[49m\u001B[38;5;241;43m14\u001B[39;49m\u001B[43m,\u001B[49m\u001B[38;5;241;43m10\u001B[39;49m\u001B[43m)\u001B[49m\u001B[43m,\u001B[49m\u001B[43m \u001B[49m\u001B[43mcolor\u001B[49m\u001B[38;5;241;43m=\u001B[39;49m\u001B[38;5;124;43m'\u001B[39;49m\u001B[38;5;124;43mpurple\u001B[39;49m\u001B[38;5;124;43m'\u001B[39;49m\u001B[43m)\u001B[49m\n",
      "File \u001B[1;32m~\\Documents\\datascience\\env\\Lib\\site-packages\\pandas\\plotting\\_core.py:951\u001B[0m, in \u001B[0;36mPlotAccessor.__call__\u001B[1;34m(self, *args, **kwargs)\u001B[0m\n\u001B[0;32m    950\u001B[0m \u001B[38;5;28;01mdef\u001B[39;00m \u001B[38;5;21m__call__\u001B[39m(\u001B[38;5;28mself\u001B[39m, \u001B[38;5;241m*\u001B[39margs, \u001B[38;5;241m*\u001B[39m\u001B[38;5;241m*\u001B[39mkwargs):\n\u001B[1;32m--> 951\u001B[0m     plot_backend \u001B[38;5;241m=\u001B[39m \u001B[43m_get_plot_backend\u001B[49m\u001B[43m(\u001B[49m\u001B[43mkwargs\u001B[49m\u001B[38;5;241;43m.\u001B[39;49m\u001B[43mpop\u001B[49m\u001B[43m(\u001B[49m\u001B[38;5;124;43m\"\u001B[39;49m\u001B[38;5;124;43mbackend\u001B[39;49m\u001B[38;5;124;43m\"\u001B[39;49m\u001B[43m,\u001B[49m\u001B[43m \u001B[49m\u001B[38;5;28;43;01mNone\u001B[39;49;00m\u001B[43m)\u001B[49m\u001B[43m)\u001B[49m\n\u001B[0;32m    953\u001B[0m     x, y, kind, kwargs \u001B[38;5;241m=\u001B[39m \u001B[38;5;28mself\u001B[39m\u001B[38;5;241m.\u001B[39m_get_call_args(\n\u001B[0;32m    954\u001B[0m         plot_backend\u001B[38;5;241m.\u001B[39m\u001B[38;5;18m__name__\u001B[39m, \u001B[38;5;28mself\u001B[39m\u001B[38;5;241m.\u001B[39m_parent, args, kwargs\n\u001B[0;32m    955\u001B[0m     )\n\u001B[0;32m    957\u001B[0m     kind \u001B[38;5;241m=\u001B[39m \u001B[38;5;28mself\u001B[39m\u001B[38;5;241m.\u001B[39m_kind_aliases\u001B[38;5;241m.\u001B[39mget(kind, kind)\n",
      "File \u001B[1;32m~\\Documents\\datascience\\env\\Lib\\site-packages\\pandas\\plotting\\_core.py:1947\u001B[0m, in \u001B[0;36m_get_plot_backend\u001B[1;34m(backend)\u001B[0m\n\u001B[0;32m   1944\u001B[0m \u001B[38;5;28;01mif\u001B[39;00m backend_str \u001B[38;5;129;01min\u001B[39;00m _backends:\n\u001B[0;32m   1945\u001B[0m     \u001B[38;5;28;01mreturn\u001B[39;00m _backends[backend_str]\n\u001B[1;32m-> 1947\u001B[0m module \u001B[38;5;241m=\u001B[39m \u001B[43m_load_backend\u001B[49m\u001B[43m(\u001B[49m\u001B[43mbackend_str\u001B[49m\u001B[43m)\u001B[49m\n\u001B[0;32m   1948\u001B[0m _backends[backend_str] \u001B[38;5;241m=\u001B[39m module\n\u001B[0;32m   1949\u001B[0m \u001B[38;5;28;01mreturn\u001B[39;00m module\n",
      "File \u001B[1;32m~\\Documents\\datascience\\env\\Lib\\site-packages\\pandas\\plotting\\_core.py:1877\u001B[0m, in \u001B[0;36m_load_backend\u001B[1;34m(backend)\u001B[0m\n\u001B[0;32m   1875\u001B[0m         module \u001B[38;5;241m=\u001B[39m importlib\u001B[38;5;241m.\u001B[39mimport_module(\u001B[38;5;124m\"\u001B[39m\u001B[38;5;124mpandas.plotting._matplotlib\u001B[39m\u001B[38;5;124m\"\u001B[39m)\n\u001B[0;32m   1876\u001B[0m     \u001B[38;5;28;01mexcept\u001B[39;00m \u001B[38;5;167;01mImportError\u001B[39;00m:\n\u001B[1;32m-> 1877\u001B[0m         \u001B[38;5;28;01mraise\u001B[39;00m \u001B[38;5;167;01mImportError\u001B[39;00m(\n\u001B[0;32m   1878\u001B[0m             \u001B[38;5;124m\"\u001B[39m\u001B[38;5;124mmatplotlib is required for plotting when the \u001B[39m\u001B[38;5;124m\"\u001B[39m\n\u001B[0;32m   1879\u001B[0m             \u001B[38;5;124m'\u001B[39m\u001B[38;5;124mdefault backend \u001B[39m\u001B[38;5;124m\"\u001B[39m\u001B[38;5;124mmatplotlib\u001B[39m\u001B[38;5;124m\"\u001B[39m\u001B[38;5;124m is selected.\u001B[39m\u001B[38;5;124m'\u001B[39m\n\u001B[0;32m   1880\u001B[0m         ) \u001B[38;5;28;01mfrom\u001B[39;00m \u001B[38;5;28;01mNone\u001B[39;00m\n\u001B[0;32m   1881\u001B[0m     \u001B[38;5;28;01mreturn\u001B[39;00m module\n\u001B[0;32m   1883\u001B[0m found_backend \u001B[38;5;241m=\u001B[39m \u001B[38;5;28;01mFalse\u001B[39;00m\n",
      "\u001B[1;31mImportError\u001B[0m: matplotlib is required for plotting when the default backend \"matplotlib\" is selected."
     ]
    }
   ],
   "source": [
    "df_preco_tipo = dados.groupby('Tipo')[['Valor']].mean().sort_values('Valor')\n",
    "\n",
    "df_preco_tipo.plot(kind='barh',figsize=(14,10), color='purple')"
   ]
  },
  {
   "cell_type": "markdown",
   "metadata": {
    "id": "c2rdhKbgZMpT"
   },
   "source": [
    "## Removendo os imóveis comerciais"
   ]
  },
  {
   "cell_type": "code",
   "execution_count": null,
   "metadata": {
    "id": "JELgjo5dZIwe",
    "ExecuteTime": {
     "start_time": "2023-11-07T11:15:20.673623100Z"
    }
   },
   "outputs": [],
   "source": [
    "dados.Tipo.unique()"
   ]
  },
  {
   "cell_type": "code",
   "execution_count": null,
   "metadata": {
    "id": "rDVKB-xtZUU9",
    "ExecuteTime": {
     "start_time": "2023-11-07T11:15:20.675621400Z"
    }
   },
   "outputs": [],
   "source": [
    "imoveis_comerciais = ['Conjunto Comercial/Sala', \n",
    "                      'Prédio Inteiro', 'Loja/Salão', \n",
    "                      'Galpão/Depósito/Armazém', \n",
    "                      'Casa Comercial', 'Terreno Padrão',\n",
    "                      'Loja Shopping/ Ct Comercial',\n",
    "                      'Box/Garagem', 'Chácara',\n",
    "                      'Loteamento/Condomínio', 'Sítio',\n",
    "                      'Pousada/Chalé', 'Hotel', 'Indústria']\n"
   ]
  },
  {
   "cell_type": "code",
   "execution_count": null,
   "metadata": {
    "id": "GK9p8CEK4CtU",
    "ExecuteTime": {
     "start_time": "2023-11-07T11:15:20.679144300Z"
    }
   },
   "outputs": [],
   "source": [
    "dados.query('@imoveis_comerciais in Tipo') #chama apenas o conjunto de dados que foi selecionado acima"
   ]
  },
  {
   "cell_type": "code",
   "execution_count": null,
   "metadata": {
    "id": "v7dZPR5c4Oo2",
    "ExecuteTime": {
     "start_time": "2023-11-07T11:15:20.684144900Z"
    }
   },
   "outputs": [],
   "source": [
    "dados.query('@imoveis_comerciais not in Tipo') "
   ]
  },
  {
   "cell_type": "code",
   "execution_count": null,
   "metadata": {
    "id": "DrCXtYhi4RcD",
    "ExecuteTime": {
     "start_time": "2023-11-07T11:15:20.687652600Z"
    }
   },
   "outputs": [],
   "source": [
    "df = dados.query('@imoveis_comerciais not in Tipo') \n",
    "df.head()"
   ]
  },
  {
   "cell_type": "code",
   "execution_count": null,
   "metadata": {
    "id": "PsTmoPPh5VGa",
    "ExecuteTime": {
     "start_time": "2023-11-07T11:15:20.691674400Z"
    }
   },
   "outputs": [],
   "source": [
    "df.Tipo.unique()"
   ]
  },
  {
   "cell_type": "code",
   "execution_count": null,
   "metadata": {
    "id": "ueADvdISZUSe",
    "ExecuteTime": {
     "start_time": "2023-11-07T11:15:20.695674900Z"
    }
   },
   "outputs": [],
   "source": [
    "df_preco_tipo = df.groupby('Tipo')[['Valor']].mean().sort_values('Valor')\n",
    "\n",
    "df_preco_tipo.plot(kind='barh',figsize=(14,10), color='purple')"
   ]
  },
  {
   "cell_type": "markdown",
   "metadata": {
    "id": "-wW1PcKCXP_8"
   },
   "source": [
    "## Qual o percentual de cada tipo de imóvel na nossa base de dados?"
   ]
  },
  {
   "cell_type": "code",
   "execution_count": null,
   "metadata": {
    "id": "LFn-BeGNXa2k",
    "ExecuteTime": {
     "start_time": "2023-11-07T11:15:20.699195Z"
    }
   },
   "outputs": [],
   "source": [
    "df.Tipo.unique()"
   ]
  },
  {
   "cell_type": "code",
   "execution_count": null,
   "metadata": {
    "id": "qpjKJkjmXa0A",
    "ExecuteTime": {
     "start_time": "2023-11-07T11:15:20.702201200Z"
    }
   },
   "outputs": [],
   "source": [
    "df.Tipo.value_counts(normalize=True)#Formato de %%"
   ]
  },
  {
   "cell_type": "code",
   "execution_count": null,
   "metadata": {
    "id": "XMWQmHhbXaxG",
    "ExecuteTime": {
     "start_time": "2023-11-07T11:15:20.706196100Z"
    }
   },
   "outputs": [],
   "source": [
    "df.Tipo.value_counts(normalize=True).to_frame().sort_values('proportion')"
   ]
  },
  {
   "cell_type": "code",
   "execution_count": null,
   "metadata": {
    "id": "PXr5xrBvXasw",
    "ExecuteTime": {
     "start_time": "2023-11-07T11:15:20.710521100Z"
    }
   },
   "outputs": [],
   "source": [
    "df_percentual_tipo = df.Tipo.value_counts(normalize=True).to_frame().sort_values('proportion')\n",
    "\n",
    "df_percentual_tipo.plot(kind='bar', figsize=(14,10), color='green', xlabel='Tipos', ylabel='Percentual')"
   ]
  },
  {
   "cell_type": "code",
   "execution_count": null,
   "metadata": {
    "id": "38RX1mLhXaqK",
    "ExecuteTime": {
     "start_time": "2023-11-07T11:15:20.714519200Z"
    }
   },
   "outputs": [],
   "source": []
  },
  {
   "cell_type": "markdown",
   "metadata": {
    "id": "2TJSa7Nr59qr"
   },
   "source": [
    "### **Selecionando apenas os imóveis do tipo apartamento**"
   ]
  },
  {
   "cell_type": "code",
   "execution_count": null,
   "metadata": {
    "id": "HZ7AhVhl6kXH",
    "ExecuteTime": {
     "start_time": "2023-11-07T11:15:20.719044900Z"
    }
   },
   "outputs": [],
   "source": [
    "df.query('Tipo == \"Apartamento\"')"
   ]
  },
  {
   "cell_type": "code",
   "execution_count": null,
   "metadata": {
    "id": "0CtEDNjF6xKH",
    "ExecuteTime": {
     "start_time": "2023-11-07T11:15:20.723561300Z"
    }
   },
   "outputs": [],
   "source": [
    "df = df.query('Tipo == \"Apartamento\"')\n",
    "df.head()"
   ]
  },
  {
   "cell_type": "markdown",
   "metadata": {
    "id": "Qicz5ljuWYIG"
   },
   "source": [
    "# Tratando e filtrando os dados"
   ]
  },
  {
   "cell_type": "markdown",
   "metadata": {
    "id": "sx6e737KaaWV"
   },
   "source": [
    "## Lidando com dados nulos"
   ]
  },
  {
   "cell_type": "code",
   "execution_count": null,
   "metadata": {
    "id": "XYFrVbLlWX0j",
    "ExecuteTime": {
     "start_time": "2023-11-07T11:15:20.727087700Z"
    }
   },
   "outputs": [],
   "source": [
    "df.isnull()# busca dados nulos "
   ]
  },
  {
   "cell_type": "code",
   "execution_count": null,
   "metadata": {
    "id": "vtgPgHGnWYTZ",
    "ExecuteTime": {
     "start_time": "2023-11-07T11:15:20.732311Z"
    }
   },
   "outputs": [],
   "source": [
    "df.isnull().sum()#valores nulos por colunas"
   ]
  },
  {
   "cell_type": "code",
   "execution_count": null,
   "metadata": {
    "id": "Mw2m96vCaZvE",
    "ExecuteTime": {
     "start_time": "2023-11-07T11:15:20.737164500Z"
    }
   },
   "outputs": [],
   "source": [
    "df.fillna(0)# substitui os valores nulos por 0 ou outro tipo valor"
   ]
  },
  {
   "cell_type": "code",
   "execution_count": null,
   "metadata": {
    "id": "KRF0dAyBaZq7",
    "ExecuteTime": {
     "start_time": "2023-11-07T11:15:20.740954900Z"
    }
   },
   "outputs": [],
   "source": [
    "df = df.fillna(0)"
   ]
  },
  {
   "cell_type": "code",
   "execution_count": null,
   "metadata": {
    "id": "Plaat1OsbJ-5",
    "ExecuteTime": {
     "start_time": "2023-11-07T11:15:20.744595800Z"
    }
   },
   "outputs": [],
   "source": [
    "df"
   ]
  },
  {
   "cell_type": "code",
   "execution_count": null,
   "metadata": {
    "id": "wYReiMYibLZ1",
    "ExecuteTime": {
     "start_time": "2023-11-07T11:15:20.748115900Z"
    }
   },
   "outputs": [],
   "source": [
    "df.isnull().sum()"
   ]
  },
  {
   "cell_type": "markdown",
   "metadata": {
    "id": "B_OC_jS8cL0n"
   },
   "source": [
    "## Removendo registros"
   ]
  },
  {
   "cell_type": "code",
   "execution_count": null,
   "metadata": {
    "id": "H955G70zcKwX",
    "ExecuteTime": {
     "start_time": "2023-11-07T11:15:20.752122Z"
    }
   },
   "outputs": [],
   "source": [
    "df.query('Valor == 0 | Condominio == 0')#seleciona valor ou condomio que sejas igual a 0"
   ]
  },
  {
   "cell_type": "code",
   "execution_count": null,
   "metadata": {
    "id": "7M_YtGLgxd0k",
    "ExecuteTime": {
     "start_time": "2023-11-07T11:15:20.755115100Z"
    }
   },
   "outputs": [],
   "source": [
    "df.query('Valor == 0 | Condominio == 0').index#Todos os indicies"
   ]
  },
  {
   "cell_type": "code",
   "execution_count": null,
   "metadata": {
    "id": "R28sDOakx0dX",
    "ExecuteTime": {
     "start_time": "2023-11-07T11:15:20.759439400Z"
    }
   },
   "outputs": [],
   "source": [
    "registros_a_removerdor = df.query('Valor == 0 | Condominio == 0').index.duplicated()"
   ]
  },
  {
   "cell_type": "code",
   "execution_count": null,
   "metadata": {
    "id": "p4UIflVTcKtN",
    "ExecuteTime": {
     "start_time": "2023-11-07T11:15:20.762434200Z"
    }
   },
   "outputs": [],
   "source": [
    "df.drop(registros_a_removerdor, axis=0, inplace=True) # axis 0 para linhas 1 para colunas"
   ]
  },
  {
   "cell_type": "code",
   "execution_count": null,
   "metadata": {
    "id": "-hydAdP2e4m4",
    "ExecuteTime": {
     "start_time": "2023-11-07T11:15:20.765432500Z"
    }
   },
   "outputs": [],
   "source": [
    "df.query('Valor == 0 | Condominio == 0')"
   ]
  },
  {
   "cell_type": "code",
   "execution_count": null,
   "metadata": {
    "id": "jLJ8MM7byGHq",
    "ExecuteTime": {
     "start_time": "2023-11-07T11:15:20.769966200Z"
    }
   },
   "outputs": [],
   "source": [
    "df.head()"
   ]
  },
  {
   "cell_type": "code",
   "execution_count": null,
   "metadata": {
    "id": "Roc3lFaEe6lZ",
    "ExecuteTime": {
     "start_time": "2023-11-07T11:15:20.772501200Z"
    }
   },
   "outputs": [],
   "source": [
    "df.Tipo.unique()"
   ]
  },
  {
   "cell_type": "code",
   "execution_count": null,
   "metadata": {
    "id": "ksSN-IzN8Z7i",
    "ExecuteTime": {
     "start_time": "2023-11-07T11:15:20.775501600Z"
    }
   },
   "outputs": [],
   "source": [
    "df.drop('Tipo', axis=1, inplace=True)"
   ]
  },
  {
   "cell_type": "code",
   "execution_count": null,
   "metadata": {
    "id": "XohBafvw8dsX",
    "ExecuteTime": {
     "start_time": "2023-11-07T11:15:20.779021900Z"
    }
   },
   "outputs": [],
   "source": [
    "df.head()"
   ]
  },
  {
   "cell_type": "markdown",
   "metadata": {
    "id": "khQPzyksg5Hx"
   },
   "source": [
    "## Filtros"
   ]
  },
  {
   "cell_type": "markdown",
   "metadata": {
    "id": "ruP5z4iUy0HA"
   },
   "source": [
    "### **1. Apartamentos que possuem `1 quarto` e `aluguel menor que 1200`**\n",
    "\n"
   ]
  },
  {
   "cell_type": "code",
   "execution_count": null,
   "metadata": {
    "id": "qTimHdpn-UjL",
    "ExecuteTime": {
     "start_time": "2023-11-07T11:15:20.781031100Z"
    }
   },
   "outputs": [],
   "source": [
    "df['Quartos'] == 1"
   ]
  },
  {
   "cell_type": "code",
   "execution_count": null,
   "metadata": {
    "id": "_HAkpI9EeMPv",
    "ExecuteTime": {
     "start_time": "2023-11-07T11:15:20.784032300Z"
    }
   },
   "outputs": [],
   "source": [
    "selecao1 = df['Quartos'] == 1\n",
    "df[selecao1]"
   ]
  },
  {
   "cell_type": "code",
   "execution_count": null,
   "metadata": {
    "id": "i_uf0kP-0Jcv",
    "ExecuteTime": {
     "start_time": "2023-11-07T11:15:20.786031900Z"
    }
   },
   "outputs": [],
   "source": [
    "selecao2 = df['Valor'] < 1200\n",
    "df[selecao2]"
   ]
  },
  {
   "cell_type": "code",
   "execution_count": null,
   "metadata": {
    "id": "9iZXXwkE0JaL",
    "ExecuteTime": {
     "start_time": "2023-11-07T11:15:20.787540200Z"
    }
   },
   "outputs": [],
   "source": [
    "selecao_final = (selecao1) & (selecao2)\n",
    "df[selecao_final]"
   ]
  },
  {
   "cell_type": "code",
   "execution_count": null,
   "metadata": {
    "id": "hTtHjRF271SQ",
    "ExecuteTime": {
     "start_time": "2023-11-07T11:15:20.790546900Z"
    }
   },
   "outputs": [],
   "source": [
    "df_1 = df[selecao_final]"
   ]
  },
  {
   "cell_type": "markdown",
   "metadata": {
    "id": "cFeUf691y0oy"
   },
   "source": [
    "### **2. `Apartamentos` que possuem pelo menos `2 quartos`, `aluguel menor que 3000` e `area maior que 70`**"
   ]
  },
  {
   "cell_type": "code",
   "execution_count": null,
   "metadata": {
    "id": "nt0alj_leMeZ",
    "ExecuteTime": {
     "start_time": "2023-11-07T11:15:20.792550Z"
    }
   },
   "outputs": [],
   "source": [
    "selecao = (df['Quartos'] >=2) & (df['Valor'] < 3000) & (df['Area'] > 70)\n",
    "df[selecao]"
   ]
  },
  {
   "cell_type": "code",
   "execution_count": null,
   "metadata": {
    "id": "5b30hBhj76LA",
    "ExecuteTime": {
     "start_time": "2023-11-07T11:15:20.794547300Z"
    }
   },
   "outputs": [],
   "source": [
    "df_2 = df[selecao]"
   ]
  },
  {
   "cell_type": "markdown",
   "metadata": {
    "id": "X44FZQVd8Bdy"
   },
   "source": [
    "## Salvando os dados"
   ]
  },
  {
   "cell_type": "code",
   "execution_count": null,
   "metadata": {
    "id": "KrvHtvZm9BXQ",
    "ExecuteTime": {
     "start_time": "2023-11-07T11:15:20.797156500Z"
    }
   },
   "outputs": [],
   "source": [
    "df.to_csv('dados_apartamentos.csv')"
   ]
  },
  {
   "cell_type": "code",
   "execution_count": null,
   "metadata": {
    "id": "3MkTUyhj-G4L",
    "ExecuteTime": {
     "start_time": "2023-11-07T11:15:20.800067500Z"
    }
   },
   "outputs": [],
   "source": [
    "pd.read_csv('dados_apartamentos.csv')"
   ]
  },
  {
   "cell_type": "code",
   "execution_count": null,
   "metadata": {
    "id": "PuNhu13f96o0",
    "ExecuteTime": {
     "start_time": "2023-11-07T11:15:20.802064400Z"
    }
   },
   "outputs": [],
   "source": [
    "df.to_csv('dados_apartamentos.csv', index=False)"
   ]
  },
  {
   "cell_type": "code",
   "execution_count": null,
   "metadata": {
    "id": "JlTd_yEP-F6B",
    "ExecuteTime": {
     "start_time": "2023-11-07T11:15:20.804066100Z"
    }
   },
   "outputs": [],
   "source": [
    "pd.read_csv('dados_apartamentos.csv')"
   ]
  },
  {
   "cell_type": "code",
   "execution_count": null,
   "metadata": {
    "id": "qtrF3cN3-PHn",
    "ExecuteTime": {
     "start_time": "2023-11-07T11:15:20.807067100Z"
    }
   },
   "outputs": [],
   "source": [
    "df.to_csv('./dados/dados_apartamentos.csv', index=False, sep=';')"
   ]
  },
  {
   "cell_type": "code",
   "execution_count": null,
   "metadata": {
    "id": "ldKDP26a-Rk1",
    "ExecuteTime": {
     "start_time": "2023-11-07T11:15:20.808492400Z"
    }
   },
   "outputs": [],
   "source": [
    "pd.read_csv('dados_apartamentos.csv', sep=';')"
   ]
  },
  {
   "cell_type": "code",
   "execution_count": null,
   "metadata": {
    "id": "Y5e2jaBR-UmV",
    "ExecuteTime": {
     "start_time": "2023-11-07T11:15:20.811503600Z"
    }
   },
   "outputs": [],
   "source": [
    "df_1.to_csv('./dados/df-1.csv', sep=';', index=False)"
   ]
  },
  {
   "cell_type": "code",
   "execution_count": null,
   "metadata": {
    "id": "x02MX4-bc6uR",
    "ExecuteTime": {
     "start_time": "2023-11-07T11:15:20.813509300Z"
    }
   },
   "outputs": [],
   "source": [
    "df_2.to_csv('./dados/df-2.csv', sep=';', index=False)"
   ]
  },
  {
   "cell_type": "markdown",
   "metadata": {
    "id": "e6eJTZfKWXEs"
   },
   "source": [
    "# Manipulando os dados"
   ]
  },
  {
   "cell_type": "markdown",
   "metadata": {
    "id": "3i_NaXfjadEI"
   },
   "source": [
    "## Criando colunas numéricas"
   ]
  },
  {
   "cell_type": "code",
   "execution_count": null,
   "metadata": {
    "id": "49JAtiMED73t",
    "ExecuteTime": {
     "start_time": "2023-11-07T11:15:20.817016800Z"
    }
   },
   "outputs": [],
   "source": [
    "url = './dados/aluguel.csv'\n",
    "dados = pd.read_csv(url, sep=';', encoding='utf8')\n",
    "dados.head()"
   ]
  },
  {
   "cell_type": "code",
   "execution_count": null,
   "metadata": {
    "id": "rBejF2_badiG",
    "ExecuteTime": {
     "start_time": "2023-11-07T11:15:20.819033700Z"
    }
   },
   "outputs": [],
   "source": [
    "dados['Valor_por_mes'] = dados['Valor'] + dados['Condominio'] #Criando colunas numericas\n",
    "dados.head()"
   ]
  },
  {
   "cell_type": "code",
   "execution_count": null,
   "metadata": {
    "id": "66yfztw3ad2P",
    "ExecuteTime": {
     "start_time": "2023-11-07T11:15:20.821033900Z"
    }
   },
   "outputs": [],
   "source": [
    "dados['Valor_por_ano'] = dados['Valor_por_mes'] * 12 + dados['IPTU']\n",
    "dados.head()"
   ]
  },
  {
   "cell_type": "markdown",
   "metadata": {
    "id": "TZtb57m2bjzR"
   },
   "source": [
    "## Criando colunas categóricas"
   ]
  },
  {
   "cell_type": "code",
   "execution_count": null,
   "metadata": {
    "id": "tb4crkqWJO3u",
    "ExecuteTime": {
     "start_time": "2023-11-07T11:15:20.824035500Z"
    }
   },
   "outputs": [],
   "source": [
    "dados['Descricao'] = dados['Tipo'] +' em ' + dados['Bairro'] \n",
    "dados.head()"
   ]
  },
  {
   "cell_type": "code",
   "execution_count": 22,
   "metadata": {
    "id": "gmfpWCBENjGx",
    "ExecuteTime": {
     "end_time": "2023-11-07T11:16:31.706979200Z",
     "start_time": "2023-11-07T11:16:31.599831500Z"
    }
   },
   "outputs": [
    {
     "data": {
      "text/plain": "                          Tipo                Bairro  Quartos  Vagas  Suites  \\\n0                    Quitinete            Copacabana        1      0       0   \n1                         Casa       Jardim Botânico        2      0       1   \n2      Conjunto Comercial/Sala       Barra da Tijuca        0      4       0   \n3                  Apartamento                Centro        1      0       0   \n4                  Apartamento          Higienópolis        1      0       0   \n...                        ...                   ...      ...    ...     ...   \n32955                Quitinete                Centro        0      0       0   \n32956              Apartamento           Jacarepaguá        3      1       2   \n32957              Apartamento  São Francisco Xavier        2      1       0   \n32958              Apartamento                Leblon        2      0       0   \n32959  Conjunto Comercial/Sala                Centro        0      0       0   \n\n       Area   Valor  Condominio    IPTU Possui_suite  \\\n0        40  1700.0       500.0    60.0          Não   \n1       100  7000.0         NaN     NaN          Sim   \n2       150  5200.0      4020.0  1111.0          Não   \n3        15   800.0       390.0    20.0          Não   \n4        48   800.0       230.0     NaN          Não   \n...     ...     ...         ...     ...          ...   \n32955    27   800.0       350.0    25.0          Não   \n32956    78  1800.0       800.0    40.0          Sim   \n32957    48  1400.0       509.0    37.0          Não   \n32958    70  3000.0       760.0     NaN          Não   \n32959   250  6500.0      4206.0  1109.0          Não   \n\n                                               Descricao  \n0      Quitinete em Copacabana com 1 quarto(s)  e 0 v...  \n1      Casa em Jardim Botânico com 2 quarto(s)  e 0 v...  \n2      Conjunto Comercial/Sala em Barra da Tijuca com...  \n3      Apartamento em Centro com 1 quarto(s)  e 0 vag...  \n4      Apartamento em Higienópolis com 1 quarto(s)  e...  \n...                                                  ...  \n32955  Quitinete em Centro com 0 quarto(s)  e 0 vaga(...  \n32956  Apartamento em Jacarepaguá com 3 quarto(s)  e ...  \n32957  Apartamento em São Francisco Xavier com 2 quar...  \n32958  Apartamento em Leblon com 2 quarto(s)  e 0 vag...  \n32959  Conjunto Comercial/Sala em Centro com 0 quarto...  \n\n[32960 rows x 11 columns]",
      "text/html": "<div>\n<style scoped>\n    .dataframe tbody tr th:only-of-type {\n        vertical-align: middle;\n    }\n\n    .dataframe tbody tr th {\n        vertical-align: top;\n    }\n\n    .dataframe thead th {\n        text-align: right;\n    }\n</style>\n<table border=\"1\" class=\"dataframe\">\n  <thead>\n    <tr style=\"text-align: right;\">\n      <th></th>\n      <th>Tipo</th>\n      <th>Bairro</th>\n      <th>Quartos</th>\n      <th>Vagas</th>\n      <th>Suites</th>\n      <th>Area</th>\n      <th>Valor</th>\n      <th>Condominio</th>\n      <th>IPTU</th>\n      <th>Possui_suite</th>\n      <th>Descricao</th>\n    </tr>\n  </thead>\n  <tbody>\n    <tr>\n      <th>0</th>\n      <td>Quitinete</td>\n      <td>Copacabana</td>\n      <td>1</td>\n      <td>0</td>\n      <td>0</td>\n      <td>40</td>\n      <td>1700.0</td>\n      <td>500.0</td>\n      <td>60.0</td>\n      <td>Não</td>\n      <td>Quitinete em Copacabana com 1 quarto(s)  e 0 v...</td>\n    </tr>\n    <tr>\n      <th>1</th>\n      <td>Casa</td>\n      <td>Jardim Botânico</td>\n      <td>2</td>\n      <td>0</td>\n      <td>1</td>\n      <td>100</td>\n      <td>7000.0</td>\n      <td>NaN</td>\n      <td>NaN</td>\n      <td>Sim</td>\n      <td>Casa em Jardim Botânico com 2 quarto(s)  e 0 v...</td>\n    </tr>\n    <tr>\n      <th>2</th>\n      <td>Conjunto Comercial/Sala</td>\n      <td>Barra da Tijuca</td>\n      <td>0</td>\n      <td>4</td>\n      <td>0</td>\n      <td>150</td>\n      <td>5200.0</td>\n      <td>4020.0</td>\n      <td>1111.0</td>\n      <td>Não</td>\n      <td>Conjunto Comercial/Sala em Barra da Tijuca com...</td>\n    </tr>\n    <tr>\n      <th>3</th>\n      <td>Apartamento</td>\n      <td>Centro</td>\n      <td>1</td>\n      <td>0</td>\n      <td>0</td>\n      <td>15</td>\n      <td>800.0</td>\n      <td>390.0</td>\n      <td>20.0</td>\n      <td>Não</td>\n      <td>Apartamento em Centro com 1 quarto(s)  e 0 vag...</td>\n    </tr>\n    <tr>\n      <th>4</th>\n      <td>Apartamento</td>\n      <td>Higienópolis</td>\n      <td>1</td>\n      <td>0</td>\n      <td>0</td>\n      <td>48</td>\n      <td>800.0</td>\n      <td>230.0</td>\n      <td>NaN</td>\n      <td>Não</td>\n      <td>Apartamento em Higienópolis com 1 quarto(s)  e...</td>\n    </tr>\n    <tr>\n      <th>...</th>\n      <td>...</td>\n      <td>...</td>\n      <td>...</td>\n      <td>...</td>\n      <td>...</td>\n      <td>...</td>\n      <td>...</td>\n      <td>...</td>\n      <td>...</td>\n      <td>...</td>\n      <td>...</td>\n    </tr>\n    <tr>\n      <th>32955</th>\n      <td>Quitinete</td>\n      <td>Centro</td>\n      <td>0</td>\n      <td>0</td>\n      <td>0</td>\n      <td>27</td>\n      <td>800.0</td>\n      <td>350.0</td>\n      <td>25.0</td>\n      <td>Não</td>\n      <td>Quitinete em Centro com 0 quarto(s)  e 0 vaga(...</td>\n    </tr>\n    <tr>\n      <th>32956</th>\n      <td>Apartamento</td>\n      <td>Jacarepaguá</td>\n      <td>3</td>\n      <td>1</td>\n      <td>2</td>\n      <td>78</td>\n      <td>1800.0</td>\n      <td>800.0</td>\n      <td>40.0</td>\n      <td>Sim</td>\n      <td>Apartamento em Jacarepaguá com 3 quarto(s)  e ...</td>\n    </tr>\n    <tr>\n      <th>32957</th>\n      <td>Apartamento</td>\n      <td>São Francisco Xavier</td>\n      <td>2</td>\n      <td>1</td>\n      <td>0</td>\n      <td>48</td>\n      <td>1400.0</td>\n      <td>509.0</td>\n      <td>37.0</td>\n      <td>Não</td>\n      <td>Apartamento em São Francisco Xavier com 2 quar...</td>\n    </tr>\n    <tr>\n      <th>32958</th>\n      <td>Apartamento</td>\n      <td>Leblon</td>\n      <td>2</td>\n      <td>0</td>\n      <td>0</td>\n      <td>70</td>\n      <td>3000.0</td>\n      <td>760.0</td>\n      <td>NaN</td>\n      <td>Não</td>\n      <td>Apartamento em Leblon com 2 quarto(s)  e 0 vag...</td>\n    </tr>\n    <tr>\n      <th>32959</th>\n      <td>Conjunto Comercial/Sala</td>\n      <td>Centro</td>\n      <td>0</td>\n      <td>0</td>\n      <td>0</td>\n      <td>250</td>\n      <td>6500.0</td>\n      <td>4206.0</td>\n      <td>1109.0</td>\n      <td>Não</td>\n      <td>Conjunto Comercial/Sala em Centro com 0 quarto...</td>\n    </tr>\n  </tbody>\n</table>\n<p>32960 rows × 11 columns</p>\n</div>"
     },
     "execution_count": 22,
     "metadata": {},
     "output_type": "execute_result"
    }
   ],
   "source": [
    "dados['Descricao'] = dados['Tipo'] + ' em ' + dados['Bairro'] + ' com ' + \\\n",
    "                                        dados['Quartos'].astype(str) + ' quarto(s) ' + \\\n",
    "                                        ' e ' + dados['Vagas'].astype(str) + ' vaga(s) de garagem.'\n",
    "dados\n"
   ]
  },
  {
   "cell_type": "code",
   "execution_count": 20,
   "metadata": {
    "id": "Z-27rFc7NSwq",
    "ExecuteTime": {
     "end_time": "2023-11-07T11:15:51.933638Z",
     "start_time": "2023-11-07T11:15:51.892978800Z"
    }
   },
   "outputs": [
    {
     "data": {
      "text/plain": "                      Tipo           Bairro  Quartos  Vagas  Suites  Area  \\\n0                Quitinete       Copacabana        1      0       0    40   \n1                     Casa  Jardim Botânico        2      0       1   100   \n2  Conjunto Comercial/Sala  Barra da Tijuca        0      4       0   150   \n3              Apartamento           Centro        1      0       0    15   \n4              Apartamento     Higienópolis        1      0       0    48   \n\n    Valor  Condominio    IPTU Possui_suite  \n0  1700.0       500.0    60.0          Não  \n1  7000.0         NaN     NaN          Sim  \n2  5200.0      4020.0  1111.0          Não  \n3   800.0       390.0    20.0          Não  \n4   800.0       230.0     NaN          Não  ",
      "text/html": "<div>\n<style scoped>\n    .dataframe tbody tr th:only-of-type {\n        vertical-align: middle;\n    }\n\n    .dataframe tbody tr th {\n        vertical-align: top;\n    }\n\n    .dataframe thead th {\n        text-align: right;\n    }\n</style>\n<table border=\"1\" class=\"dataframe\">\n  <thead>\n    <tr style=\"text-align: right;\">\n      <th></th>\n      <th>Tipo</th>\n      <th>Bairro</th>\n      <th>Quartos</th>\n      <th>Vagas</th>\n      <th>Suites</th>\n      <th>Area</th>\n      <th>Valor</th>\n      <th>Condominio</th>\n      <th>IPTU</th>\n      <th>Possui_suite</th>\n    </tr>\n  </thead>\n  <tbody>\n    <tr>\n      <th>0</th>\n      <td>Quitinete</td>\n      <td>Copacabana</td>\n      <td>1</td>\n      <td>0</td>\n      <td>0</td>\n      <td>40</td>\n      <td>1700.0</td>\n      <td>500.0</td>\n      <td>60.0</td>\n      <td>Não</td>\n    </tr>\n    <tr>\n      <th>1</th>\n      <td>Casa</td>\n      <td>Jardim Botânico</td>\n      <td>2</td>\n      <td>0</td>\n      <td>1</td>\n      <td>100</td>\n      <td>7000.0</td>\n      <td>NaN</td>\n      <td>NaN</td>\n      <td>Sim</td>\n    </tr>\n    <tr>\n      <th>2</th>\n      <td>Conjunto Comercial/Sala</td>\n      <td>Barra da Tijuca</td>\n      <td>0</td>\n      <td>4</td>\n      <td>0</td>\n      <td>150</td>\n      <td>5200.0</td>\n      <td>4020.0</td>\n      <td>1111.0</td>\n      <td>Não</td>\n    </tr>\n    <tr>\n      <th>3</th>\n      <td>Apartamento</td>\n      <td>Centro</td>\n      <td>1</td>\n      <td>0</td>\n      <td>0</td>\n      <td>15</td>\n      <td>800.0</td>\n      <td>390.0</td>\n      <td>20.0</td>\n      <td>Não</td>\n    </tr>\n    <tr>\n      <th>4</th>\n      <td>Apartamento</td>\n      <td>Higienópolis</td>\n      <td>1</td>\n      <td>0</td>\n      <td>0</td>\n      <td>48</td>\n      <td>800.0</td>\n      <td>230.0</td>\n      <td>NaN</td>\n      <td>Não</td>\n    </tr>\n  </tbody>\n</table>\n</div>"
     },
     "execution_count": 20,
     "metadata": {},
     "output_type": "execute_result"
    }
   ],
   "source": [
    "dados['Possui_suite'] = dados['Suites'].apply(lambda x: \"Sim\" if x> 0 else \"Não\")\n",
    "dados.head() # x equivale a cada uma das linhas"
   ]
  },
  {
   "cell_type": "code",
   "execution_count": 23,
   "metadata": {
    "id": "QSLfaWHlbkgD",
    "ExecuteTime": {
     "end_time": "2023-11-07T11:17:53.200610500Z",
     "start_time": "2023-11-07T11:17:53.130995Z"
    }
   },
   "outputs": [
    {
     "data": {
      "text/plain": "                          Tipo                Bairro  Quartos  Vagas  Suites  \\\n0                    Quitinete            Copacabana        1      0       0   \n1                         Casa       Jardim Botânico        2      0       1   \n2      Conjunto Comercial/Sala       Barra da Tijuca        0      4       0   \n3                  Apartamento                Centro        1      0       0   \n4                  Apartamento          Higienópolis        1      0       0   \n...                        ...                   ...      ...    ...     ...   \n32955                Quitinete                Centro        0      0       0   \n32956              Apartamento           Jacarepaguá        3      1       2   \n32957              Apartamento  São Francisco Xavier        2      1       0   \n32958              Apartamento                Leblon        2      0       0   \n32959  Conjunto Comercial/Sala                Centro        0      0       0   \n\n       Area   Valor  Condominio    IPTU Possui_suite  \\\n0        40  1700.0       500.0    60.0          Não   \n1       100  7000.0         NaN     NaN          Sim   \n2       150  5200.0      4020.0  1111.0          Não   \n3        15   800.0       390.0    20.0          Não   \n4        48   800.0       230.0     NaN          Não   \n...     ...     ...         ...     ...          ...   \n32955    27   800.0       350.0    25.0          Não   \n32956    78  1800.0       800.0    40.0          Sim   \n32957    48  1400.0       509.0    37.0          Não   \n32958    70  3000.0       760.0     NaN          Não   \n32959   250  6500.0      4206.0  1109.0          Não   \n\n                                               Descricao  \n0      Quitinete em Copacabana com 1 quarto(s)  e 0 v...  \n1      Casa em Jardim Botânico com 2 quarto(s)  e 0 v...  \n2      Conjunto Comercial/Sala em Barra da Tijuca com...  \n3      Apartamento em Centro com 1 quarto(s)  e 0 vag...  \n4      Apartamento em Higienópolis com 1 quarto(s)  e...  \n...                                                  ...  \n32955  Quitinete em Centro com 0 quarto(s)  e 0 vaga(...  \n32956  Apartamento em Jacarepaguá com 3 quarto(s)  e ...  \n32957  Apartamento em São Francisco Xavier com 2 quar...  \n32958  Apartamento em Leblon com 2 quarto(s)  e 0 vag...  \n32959  Conjunto Comercial/Sala em Centro com 0 quarto...  \n\n[32960 rows x 11 columns]",
      "text/html": "<div>\n<style scoped>\n    .dataframe tbody tr th:only-of-type {\n        vertical-align: middle;\n    }\n\n    .dataframe tbody tr th {\n        vertical-align: top;\n    }\n\n    .dataframe thead th {\n        text-align: right;\n    }\n</style>\n<table border=\"1\" class=\"dataframe\">\n  <thead>\n    <tr style=\"text-align: right;\">\n      <th></th>\n      <th>Tipo</th>\n      <th>Bairro</th>\n      <th>Quartos</th>\n      <th>Vagas</th>\n      <th>Suites</th>\n      <th>Area</th>\n      <th>Valor</th>\n      <th>Condominio</th>\n      <th>IPTU</th>\n      <th>Possui_suite</th>\n      <th>Descricao</th>\n    </tr>\n  </thead>\n  <tbody>\n    <tr>\n      <th>0</th>\n      <td>Quitinete</td>\n      <td>Copacabana</td>\n      <td>1</td>\n      <td>0</td>\n      <td>0</td>\n      <td>40</td>\n      <td>1700.0</td>\n      <td>500.0</td>\n      <td>60.0</td>\n      <td>Não</td>\n      <td>Quitinete em Copacabana com 1 quarto(s)  e 0 v...</td>\n    </tr>\n    <tr>\n      <th>1</th>\n      <td>Casa</td>\n      <td>Jardim Botânico</td>\n      <td>2</td>\n      <td>0</td>\n      <td>1</td>\n      <td>100</td>\n      <td>7000.0</td>\n      <td>NaN</td>\n      <td>NaN</td>\n      <td>Sim</td>\n      <td>Casa em Jardim Botânico com 2 quarto(s)  e 0 v...</td>\n    </tr>\n    <tr>\n      <th>2</th>\n      <td>Conjunto Comercial/Sala</td>\n      <td>Barra da Tijuca</td>\n      <td>0</td>\n      <td>4</td>\n      <td>0</td>\n      <td>150</td>\n      <td>5200.0</td>\n      <td>4020.0</td>\n      <td>1111.0</td>\n      <td>Não</td>\n      <td>Conjunto Comercial/Sala em Barra da Tijuca com...</td>\n    </tr>\n    <tr>\n      <th>3</th>\n      <td>Apartamento</td>\n      <td>Centro</td>\n      <td>1</td>\n      <td>0</td>\n      <td>0</td>\n      <td>15</td>\n      <td>800.0</td>\n      <td>390.0</td>\n      <td>20.0</td>\n      <td>Não</td>\n      <td>Apartamento em Centro com 1 quarto(s)  e 0 vag...</td>\n    </tr>\n    <tr>\n      <th>4</th>\n      <td>Apartamento</td>\n      <td>Higienópolis</td>\n      <td>1</td>\n      <td>0</td>\n      <td>0</td>\n      <td>48</td>\n      <td>800.0</td>\n      <td>230.0</td>\n      <td>NaN</td>\n      <td>Não</td>\n      <td>Apartamento em Higienópolis com 1 quarto(s)  e...</td>\n    </tr>\n    <tr>\n      <th>...</th>\n      <td>...</td>\n      <td>...</td>\n      <td>...</td>\n      <td>...</td>\n      <td>...</td>\n      <td>...</td>\n      <td>...</td>\n      <td>...</td>\n      <td>...</td>\n      <td>...</td>\n      <td>...</td>\n    </tr>\n    <tr>\n      <th>32955</th>\n      <td>Quitinete</td>\n      <td>Centro</td>\n      <td>0</td>\n      <td>0</td>\n      <td>0</td>\n      <td>27</td>\n      <td>800.0</td>\n      <td>350.0</td>\n      <td>25.0</td>\n      <td>Não</td>\n      <td>Quitinete em Centro com 0 quarto(s)  e 0 vaga(...</td>\n    </tr>\n    <tr>\n      <th>32956</th>\n      <td>Apartamento</td>\n      <td>Jacarepaguá</td>\n      <td>3</td>\n      <td>1</td>\n      <td>2</td>\n      <td>78</td>\n      <td>1800.0</td>\n      <td>800.0</td>\n      <td>40.0</td>\n      <td>Sim</td>\n      <td>Apartamento em Jacarepaguá com 3 quarto(s)  e ...</td>\n    </tr>\n    <tr>\n      <th>32957</th>\n      <td>Apartamento</td>\n      <td>São Francisco Xavier</td>\n      <td>2</td>\n      <td>1</td>\n      <td>0</td>\n      <td>48</td>\n      <td>1400.0</td>\n      <td>509.0</td>\n      <td>37.0</td>\n      <td>Não</td>\n      <td>Apartamento em São Francisco Xavier com 2 quar...</td>\n    </tr>\n    <tr>\n      <th>32958</th>\n      <td>Apartamento</td>\n      <td>Leblon</td>\n      <td>2</td>\n      <td>0</td>\n      <td>0</td>\n      <td>70</td>\n      <td>3000.0</td>\n      <td>760.0</td>\n      <td>NaN</td>\n      <td>Não</td>\n      <td>Apartamento em Leblon com 2 quarto(s)  e 0 vag...</td>\n    </tr>\n    <tr>\n      <th>32959</th>\n      <td>Conjunto Comercial/Sala</td>\n      <td>Centro</td>\n      <td>0</td>\n      <td>0</td>\n      <td>0</td>\n      <td>250</td>\n      <td>6500.0</td>\n      <td>4206.0</td>\n      <td>1109.0</td>\n      <td>Não</td>\n      <td>Conjunto Comercial/Sala em Centro com 0 quarto...</td>\n    </tr>\n  </tbody>\n</table>\n<p>32960 rows × 11 columns</p>\n</div>"
     },
     "execution_count": 23,
     "metadata": {},
     "output_type": "execute_result"
    }
   ],
   "source": [
    "dados"
   ]
  },
  {
   "cell_type": "code",
   "execution_count": null,
   "metadata": {
    "id": "oAYh5rVAbkZp",
    "ExecuteTime": {
     "start_time": "2023-11-07T11:15:20.833556500Z"
    }
   },
   "outputs": [],
   "source": []
  }
 ],
 "metadata": {
  "colab": {
   "provenance": []
  },
  "kernelspec": {
   "name": "python3",
   "language": "python",
   "display_name": "Python 3 (ipykernel)"
  },
  "language_info": {
   "codemirror_mode": {
    "name": "ipython",
    "version": 3
   },
   "file_extension": ".py",
   "mimetype": "text/x-python",
   "name": "python",
   "nbconvert_exporter": "python",
   "pygments_lexer": "ipython3",
   "version": "3.11.6"
  }
 },
 "nbformat": 4,
 "nbformat_minor": 0
}
