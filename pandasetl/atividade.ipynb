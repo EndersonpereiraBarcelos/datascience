{
 "cells": [
  {
   "cell_type": "code",
   "execution_count": 1,
   "outputs": [],
   "source": [
    "import  requests"
   ],
   "metadata": {
    "collapsed": false,
    "ExecuteTime": {
     "end_time": "2023-11-16T11:46:12.455835900Z",
     "start_time": "2023-11-16T11:46:12.335229500Z"
    }
   },
   "id": "1a028c3e9e4bf00d"
  },
  {
   "cell_type": "code",
   "execution_count": 11,
   "outputs": [],
   "source": [
    "r = requests.get('https://api.github.com/users/EndersonpereiraBarcelos')"
   ],
   "metadata": {
    "collapsed": false,
    "ExecuteTime": {
     "end_time": "2023-11-16T11:50:49.258625Z",
     "start_time": "2023-11-16T11:50:48.100627400Z"
    }
   },
   "id": "302b2d20d2d77d1b"
  },
  {
   "cell_type": "code",
   "execution_count": 12,
   "outputs": [
    {
     "data": {
      "text/plain": "200"
     },
     "execution_count": 12,
     "metadata": {},
     "output_type": "execute_result"
    }
   ],
   "source": [
    "r.status_code"
   ],
   "metadata": {
    "collapsed": false,
    "ExecuteTime": {
     "end_time": "2023-11-16T11:50:49.819996900Z",
     "start_time": "2023-11-16T11:50:49.810285400Z"
    }
   },
   "id": "9eb5ea45308552cd"
  },
  {
   "cell_type": "code",
   "execution_count": 13,
   "outputs": [
    {
     "data": {
      "text/plain": "'https://api.github.com/users/EndersonpereiraBarcelos'"
     },
     "execution_count": 13,
     "metadata": {},
     "output_type": "execute_result"
    }
   ],
   "source": [
    "r.url"
   ],
   "metadata": {
    "collapsed": false,
    "ExecuteTime": {
     "end_time": "2023-11-16T11:51:05.539361500Z",
     "start_time": "2023-11-16T11:51:05.529224800Z"
    }
   },
   "id": "422162ef89068ffa"
  },
  {
   "cell_type": "code",
   "execution_count": 15,
   "outputs": [
    {
     "data": {
      "text/plain": "{'login': 'EndersonpereiraBarcelos',\n 'id': 65699677,\n 'node_id': 'MDQ6VXNlcjY1Njk5Njc3',\n 'avatar_url': 'https://avatars.githubusercontent.com/u/65699677?v=4',\n 'gravatar_id': '',\n 'url': 'https://api.github.com/users/EndersonpereiraBarcelos',\n 'html_url': 'https://github.com/EndersonpereiraBarcelos',\n 'followers_url': 'https://api.github.com/users/EndersonpereiraBarcelos/followers',\n 'following_url': 'https://api.github.com/users/EndersonpereiraBarcelos/following{/other_user}',\n 'gists_url': 'https://api.github.com/users/EndersonpereiraBarcelos/gists{/gist_id}',\n 'starred_url': 'https://api.github.com/users/EndersonpereiraBarcelos/starred{/owner}{/repo}',\n 'subscriptions_url': 'https://api.github.com/users/EndersonpereiraBarcelos/subscriptions',\n 'organizations_url': 'https://api.github.com/users/EndersonpereiraBarcelos/orgs',\n 'repos_url': 'https://api.github.com/users/EndersonpereiraBarcelos/repos',\n 'events_url': 'https://api.github.com/users/EndersonpereiraBarcelos/events{/privacy}',\n 'received_events_url': 'https://api.github.com/users/EndersonpereiraBarcelos/received_events',\n 'type': 'User',\n 'site_admin': False,\n 'name': 'endersonpb',\n 'company': None,\n 'blog': 'https://endersonpb.vercel.app/',\n 'location': None,\n 'email': None,\n 'hireable': None,\n 'bio': None,\n 'twitter_username': None,\n 'public_repos': 44,\n 'public_gists': 0,\n 'followers': 6,\n 'following': 10,\n 'created_at': '2020-05-21T05:11:06Z',\n 'updated_at': '2023-10-30T10:22:43Z'}"
     },
     "execution_count": 15,
     "metadata": {},
     "output_type": "execute_result"
    }
   ],
   "source": [
    "r.json()"
   ],
   "metadata": {
    "collapsed": false,
    "ExecuteTime": {
     "end_time": "2023-11-16T11:51:23.220864200Z",
     "start_time": "2023-11-16T11:51:23.204290900Z"
    }
   },
   "id": "3702a125e4ebd910"
  },
  {
   "cell_type": "code",
   "execution_count": 16,
   "outputs": [
    {
     "data": {
      "text/plain": "'{\"login\":\"EndersonpereiraBarcelos\",\"id\":65699677,\"node_id\":\"MDQ6VXNlcjY1Njk5Njc3\",\"avatar_url\":\"https://avatars.githubusercontent.com/u/65699677?v=4\",\"gravatar_id\":\"\",\"url\":\"https://api.github.com/users/EndersonpereiraBarcelos\",\"html_url\":\"https://github.com/EndersonpereiraBarcelos\",\"followers_url\":\"https://api.github.com/users/EndersonpereiraBarcelos/followers\",\"following_url\":\"https://api.github.com/users/EndersonpereiraBarcelos/following{/other_user}\",\"gists_url\":\"https://api.github.com/users/EndersonpereiraBarcelos/gists{/gist_id}\",\"starred_url\":\"https://api.github.com/users/EndersonpereiraBarcelos/starred{/owner}{/repo}\",\"subscriptions_url\":\"https://api.github.com/users/EndersonpereiraBarcelos/subscriptions\",\"organizations_url\":\"https://api.github.com/users/EndersonpereiraBarcelos/orgs\",\"repos_url\":\"https://api.github.com/users/EndersonpereiraBarcelos/repos\",\"events_url\":\"https://api.github.com/users/EndersonpereiraBarcelos/events{/privacy}\",\"received_events_url\":\"https://api.github.com/users/EndersonpereiraBarcelos/received_events\",\"type\":\"User\",\"site_admin\":false,\"name\":\"endersonpb\",\"company\":null,\"blog\":\"https://endersonpb.vercel.app/\",\"location\":null,\"email\":null,\"hireable\":null,\"bio\":null,\"twitter_username\":null,\"public_repos\":44,\"public_gists\":0,\"followers\":6,\"following\":10,\"created_at\":\"2020-05-21T05:11:06Z\",\"updated_at\":\"2023-10-30T10:22:43Z\"}'"
     },
     "execution_count": 16,
     "metadata": {},
     "output_type": "execute_result"
    }
   ],
   "source": [
    "r.text"
   ],
   "metadata": {
    "collapsed": false,
    "ExecuteTime": {
     "end_time": "2023-11-16T11:51:39.803170100Z",
     "start_time": "2023-11-16T11:51:39.794932100Z"
    }
   },
   "id": "6ed6fcd320cee2c2"
  },
  {
   "cell_type": "code",
   "execution_count": 17,
   "outputs": [
    {
     "data": {
      "text/plain": "'endersonpb'"
     },
     "execution_count": 17,
     "metadata": {},
     "output_type": "execute_result"
    }
   ],
   "source": [
    "r.json()['name']"
   ],
   "metadata": {
    "collapsed": false,
    "ExecuteTime": {
     "end_time": "2023-11-16T11:52:26.732630100Z",
     "start_time": "2023-11-16T11:52:26.720016400Z"
    }
   },
   "id": "450dd0ef892bc3b9"
  },
  {
   "cell_type": "code",
   "execution_count": 18,
   "outputs": [
    {
     "data": {
      "text/plain": "'EndersonpereiraBarcelos'"
     },
     "execution_count": 18,
     "metadata": {},
     "output_type": "execute_result"
    }
   ],
   "source": [
    "r.json()['login']"
   ],
   "metadata": {
    "collapsed": false,
    "ExecuteTime": {
     "end_time": "2023-11-16T11:52:31.955610100Z",
     "start_time": "2023-11-16T11:52:31.948925Z"
    }
   },
   "id": "60b3769488be52db"
  },
  {
   "cell_type": "code",
   "execution_count": 20,
   "outputs": [
    {
     "data": {
      "text/plain": "44"
     },
     "execution_count": 20,
     "metadata": {},
     "output_type": "execute_result"
    }
   ],
   "source": [
    "r.json()['public_repos']"
   ],
   "metadata": {
    "collapsed": false,
    "ExecuteTime": {
     "end_time": "2023-11-16T11:52:45.409804500Z",
     "start_time": "2023-11-16T11:52:45.402554600Z"
    }
   },
   "id": "80c35c6d62b29139"
  },
  {
   "cell_type": "code",
   "execution_count": 19,
   "outputs": [
    {
     "data": {
      "text/plain": "'2020-05-21T05:11:06Z'"
     },
     "execution_count": 19,
     "metadata": {},
     "output_type": "execute_result"
    }
   ],
   "source": [
    "r.json()['created_at']"
   ],
   "metadata": {
    "collapsed": false,
    "ExecuteTime": {
     "end_time": "2023-11-16T11:52:43.291767600Z",
     "start_time": "2023-11-16T11:52:43.279778500Z"
    }
   },
   "id": "b7ae2b6f76edcabd"
  }
 ],
 "metadata": {
  "kernelspec": {
   "display_name": "Python 3",
   "language": "python",
   "name": "python3"
  },
  "language_info": {
   "codemirror_mode": {
    "name": "ipython",
    "version": 2
   },
   "file_extension": ".py",
   "mimetype": "text/x-python",
   "name": "python",
   "nbconvert_exporter": "python",
   "pygments_lexer": "ipython2",
   "version": "2.7.6"
  }
 },
 "nbformat": 4,
 "nbformat_minor": 5
}
